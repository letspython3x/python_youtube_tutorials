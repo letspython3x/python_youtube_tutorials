{
 "cells": [
  {
   "cell_type": "markdown",
   "metadata": {
    "slideshow": {
     "slide_type": "slide"
    }
   },
   "source": [
    "<center><h1 style=font-size:40px>Conditions Statements in Python &#128013;</h1></center>"
   ]
  },
  {
   "cell_type": "markdown",
   "metadata": {
    "slideshow": {
     "slide_type": "slide"
    }
   },
   "source": [
    "## Flowchart\n",
    "<center><img src=\"images/if_statement_flow_diagram.jpg\" style=\"width:400px;height:400px;\"/>\n"
   ]
  },
  {
   "cell_type": "markdown",
   "metadata": {
    "slideshow": {
     "slide_type": "slide"
    }
   },
   "source": [
    "## Syntax\n",
    "\n",
    "```if``` ```elif``` ```else``` statement\n",
    "\n",
    "```\n",
    "if BOOLEAN EXPRESSION:\n",
    "    STATEMENTS\n",
    "elif BOOLEAN EXPRESSION:\n",
    "    STATEMENTS\n",
    "else:\n",
    "    STATEMENTS\n",
    "```"
   ]
  },
  {
   "cell_type": "markdown",
   "metadata": {
    "slideshow": {
     "slide_type": "slide"
    }
   },
   "source": [
    "<p style=\"color:#AA0000;font-size:25px;\"> Activity 1 : Can you Vote?</p>"
   ]
  },
  {
   "cell_type": "code",
   "execution_count": 1,
   "metadata": {
    "slideshow": {
     "slide_type": "-"
    }
   },
   "outputs": [
    {
     "name": "stdout",
     "output_type": "stream",
     "text": [
      "Yeah, I can Vote :)\n"
     ]
    }
   ],
   "source": [
    "age = 24\n",
    "\n",
    "if age >= 18:\n",
    "    print('Yeah, I can Vote :)')\n",
    "else:\n",
    "    print(\"Ahh!, I can't Vote :(\")"
   ]
  },
  {
   "cell_type": "markdown",
   "metadata": {
    "slideshow": {
     "slide_type": "slide"
    }
   },
   "source": [
    "<p style=\"color:#AA0000;font-size:25px;\">Activity 2 : Is the number even or odd ?</p>"
   ]
  },
  {
   "cell_type": "code",
   "execution_count": null,
   "metadata": {
    "slideshow": {
     "slide_type": "-"
    }
   },
   "outputs": [],
   "source": [
    "num = input(\"Tell me the number: \")\n",
    "\n",
    "if num%2 == 0:\n",
    "    print (num, \" is an Even number\")\n",
    "else:\n",
    "    print (num,\" is an Odd number\")"
   ]
  },
  {
   "cell_type": "markdown",
   "metadata": {},
   "source": [
    "<p><br></p>\n",
    "<p style=\"color:#BB0000;font-size:30px;\">Mind Boggling Question</p>\n",
    "<p style=\"color:#555500;font-size:20px;\"><br>Can we do above `if-else` code in just one line ?</p>\n",
    "<p><br></p>"
   ]
  },
  {
   "cell_type": "code",
   "execution_count": 2,
   "metadata": {},
   "outputs": [
    {
     "name": "stdout",
     "output_type": "stream",
     "text": [
      "Tell me the number56\n",
      "56  is an Even number\n"
     ]
    }
   ],
   "source": [
    "num = int(input(\"Tell me the number: \"))\n",
    "\n",
    "print (num, \" is an Even number\" if num%2 == 0 else \" is an Odd number\")"
   ]
  },
  {
   "cell_type": "markdown",
   "metadata": {
    "slideshow": {
     "slide_type": "slide"
    }
   },
   "source": [
    "<p style=\"color:#AA0000;font-size:25px;\">Activity 3 : Calculate grade from marks.</p>"
   ]
  },
  {
   "cell_type": "code",
   "execution_count": 3,
   "metadata": {},
   "outputs": [
    {
     "name": "stdout",
     "output_type": "stream",
     "text": [
      "May I know your marks? :68\n",
      "Hey! you got C grade\n"
     ]
    }
   ],
   "source": [
    "marks = int(input(\"May I know your marks? :\"))\n",
    "\n",
    "if marks>90:\n",
    "    print('Hey! you got A grade')  \n",
    "elif 90 > marks >75:\n",
    "    print('Hey! you got B grade')  \n",
    "elif 75 > marks > 65:\n",
    "    print('Hey! you got C grade')  \n",
    "else:\n",
    "    print('Hey! you got No grade')  \n"
   ]
  },
  {
   "cell_type": "markdown",
   "metadata": {
    "slideshow": {
     "slide_type": "slide"
    }
   },
   "source": [
    "<p style=\"color:#99BB00;font-size:35px;\">Can we improve above piece of code ?</p>"
   ]
  },
  {
   "cell_type": "code",
   "execution_count": null,
   "metadata": {},
   "outputs": [],
   "source": [
    "marks = int(input(\"May I know your marks? :\"))\n",
    "msg = \"Hey you got %s grade\"\n",
    "\n",
    "if marks>90:\n",
    "    grade='A'    \n",
    "elif 90 > marks >75:\n",
    "    grade = 'B'  \n",
    "elif 75 > marks > 65:\n",
    "    grade = 'C'\n",
    "else:\n",
    "    grade = 'No'\n",
    "\n",
    "print(msg % grade)"
   ]
  },
  {
   "cell_type": "markdown",
   "metadata": {
    "slideshow": {
     "slide_type": "-"
    }
   },
   "source": [
    "<p><br></p>\n",
    "<p style=\"color:#AA0000;font-size:25px;\"> Activity : Calculate income tax ?</p>\n",
    "<p align=\"center\">Gross Taxable Income = 6.95L</p>\n",
    "\n",
    "<table border=\"2\" style=\"font-size:15px\">\n",
    "    <tr><th>Up to 2,50,000</th><th>Exempt from tax</th><th>Nil</th></tr>\n",
    "    <tr><td>2,50,000 - 5,00,000</td><td>10% of (5,00,000 - 2,50,000)</td><td>25,000</td></tr>\n",
    "    <tr><td>5,00,000 - 10,00,000</td><td>20% of (6,95,000 - 5,00,000)</td><td>39,000</td></tr>\n",
    "    <tr><td>Above 10,00,000</td><td>30%(Nil)</td><td>0</td></tr>\n",
    "    <tr><td>Cess</td><td>3% of total (25,000 + 39,000)</td><td>1920</td></tr>\n",
    "    <tr><td>Total Tax</td><td>25,000 + 39,000 + 1920</td><td>65,920</td></tr>\n",
    "</table>"
   ]
  },
  {
   "cell_type": "markdown",
   "metadata": {},
   "source": [
    "<p><br></p>\n",
    "## Nested ```if``` ```elif``` ```else``` statement\n",
    "\n",
    "```\n",
    "if BOOLEAN EXPRESSION:\n",
    "    if BOOLEAN_EXPRESSION:\n",
    "        STATEMENT\n",
    "    else:\n",
    "        STATEMENT\n",
    "else:\n",
    "    STATEMENT\n",
    "```"
   ]
  },
  {
   "cell_type": "code",
   "execution_count": 4,
   "metadata": {},
   "outputs": [
    {
     "name": "stdout",
     "output_type": "stream",
     "text": [
      "What's your Salary (in Lacs): 60\n",
      "The Total_tax is : 1673750.0\n"
     ]
    }
   ],
   "source": [
    "# Ask the user for salary\n",
    "salary = float(input(\"What's your Salary (in Lacs): \"))\n",
    "salary = salary * 100000\n",
    "\n",
    "if salary <= 250000:\n",
    "    tax = 0\n",
    "else:\n",
    "    diff = salary - 250000\n",
    "    if diff <= 250000:\n",
    "        tax = 0.1 * diff       \n",
    "    else:\n",
    "        tax = 25000\n",
    "        diff_2 = salary - 500000\n",
    "        if diff_2 <= 500000:\n",
    "            tax = tax + 0.2 * diff_2\n",
    "        else:\n",
    "            tax = tax + 100000\n",
    "            diff_3 = salary - 1000000            \n",
    "            tax = tax + 0.3 * diff_3\n",
    "\n",
    "cess = 0.03 * tax\n",
    "total_tax = cess + tax\n",
    "\n",
    "if total_tax:\n",
    "    print(\"The Total_tax is :\", total_tax)\n",
    "else:\n",
    "    print(\"No Taxes!!\")"
   ]
  },
  {
   "cell_type": "markdown",
   "metadata": {},
   "source": [
    "<p><br><br></p>\n",
    "<center style=\"color:#3B3B30;font-size:35px;\">Thank you for being an active listener.</center>\n",
    "<p><br></p>\n",
    "\n",
    "### Please show us your support by ```like```, ```share``` and ```subscribe``` to our channel : <a href=\"https://www.youtube.com/channel/UCWHI-Ebf7_2ogLINkBIqaYA\">```letspython3.x```</a>"
   ]
  }
 ],
 "metadata": {
  "kernelspec": {
   "display_name": "Python 3",
   "language": "python",
   "name": "python3"
  },
  "language_info": {
   "codemirror_mode": {
    "name": "ipython",
    "version": 3
   },
   "file_extension": ".py",
   "mimetype": "text/x-python",
   "name": "python",
   "nbconvert_exporter": "python",
   "pygments_lexer": "ipython3",
   "version": "3.6.7"
  }
 },
 "nbformat": 4,
 "nbformat_minor": 2
}
