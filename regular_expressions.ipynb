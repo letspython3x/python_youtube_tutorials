{
 "cells": [
  {
   "cell_type": "markdown",
   "metadata": {},
   "source": [
    "<center><h1 style=font-size:40px>Regular Expressions in Python &#128013;</h1></center>"
   ]
  },
  {
   "cell_type": "markdown",
   "metadata": {},
   "source": [
    "<center><img src=\"images/regex.jpg\" style=\"width:1000px;height:200px;\"/>"
   ]
  },
  {
   "cell_type": "markdown",
   "metadata": {},
   "source": [
    "<center style=\"color:#99BB00;font-size:30px;\">Give a thought !!!</center>\n",
    "\n",
    "<p style=\"color:#55AA56;font-size:15px;\">Can you check & extract, if the words ```cat, fat, eat, oat, rat, bat``` exist in the string ```A fat cat doesn't eat oat but a rat eats bats```</p></br>\n",
    "    "
   ]
  },
  {
   "cell_type": "code",
   "execution_count": 1,
   "metadata": {},
   "outputs": [
    {
     "data": {
      "text/plain": [
       "['cat', 'fat', 'eat', 'oat', 'bat', 'rat']"
      ]
     },
     "execution_count": 1,
     "metadata": {},
     "output_type": "execute_result"
    }
   ],
   "source": [
    "sentence = \"A fat cat doesn't eat oat but a rat eats bats\" \n",
    "list_of_matched_words = []\n",
    "\n",
    "if \"cat\" in sentence:\n",
    "    list_of_matched_words.append(\"cat\")\n",
    "if \"cat\" in sentence:\n",
    "    list_of_matched_words.append(\"fat\")\n",
    "if \"cat\" in sentence:\n",
    "    list_of_matched_words.append(\"eat\")\n",
    "if \"cat\" in sentence:\n",
    "    list_of_matched_words.append(\"oat\")\n",
    "if \"cat\" in sentence:\n",
    "    list_of_matched_words.append(\"bat\")\n",
    "if \"cat\" in sentence:\n",
    "    list_of_matched_words.append(\"rat\")\n",
    "\n",
    "list_of_matched_words  "
   ]
  },
  {
   "cell_type": "markdown",
   "metadata": {},
   "source": [
    "<br>\n",
    "<p style=\"color:#AA0000;font-size:25px;\">Domain Specific Language (DSL) </p>\n",
    "\n",
    "* A domain-specific language is created specifically to solve problems in a particular domain and is not intended to be able to solve problems outside it (although that may be technically possible)\n",
    "\n",
    "* These languages have there own declared syntaxes and grammars, with very specific goals in design and implementation\n",
    "\n",
    "* It has specialized features for a particular domain but be applicable more broadly, or conversely may in principle be capable of broad application but in practice used primarily for a specific domain\n",
    " \n",
    "Examples:\n",
    "\n",
    "* ```HTML``` for web pages\n",
    "* ```SQL``` for Querying databases\n",
    "* ```Regular Expressions``` for matching text patterns\n",
    "    "
   ]
  },
  {
   "cell_type": "markdown",
   "metadata": {},
   "source": [
    "<p>Regular expressions is a powerful language for matching text patterns.\n",
    "It is extremely useful for extracting information from text such as code, files, log, spreadsheets or even documents. </p>\n",
    "\n",
    "<br>Python library or module that supports ```regex``` is ```re```\n"
   ]
  },
  {
   "cell_type": "markdown",
   "metadata": {},
   "source": [
    "## Raw Strings in Python\n",
    "\n",
    "The python parser interprets ```‘\\’``` (backslashes) as escape characters in string literals;\n",
    "like ```\\n``` becomes a newline character."
   ]
  },
  {
   "cell_type": "markdown",
   "metadata": {},
   "source": [
    "<p style=\"color:#AA0000;font-size:25px;\">Activity: Can we suppress the behavior of ```\\``` in a string<br><br></p>"
   ]
  },
  {
   "cell_type": "markdown",
   "metadata": {},
   "source": [
    "### Way 1: Use another backslash"
   ]
  },
  {
   "cell_type": "code",
   "execution_count": 2,
   "metadata": {},
   "outputs": [
    {
     "name": "stdout",
     "output_type": "stream",
     "text": [
      "I work \\n with \\t Gemini \\t Solutins\n"
     ]
    }
   ],
   "source": [
    "s_escape = 'I work \\\\n with \\\\t Gemini \\\\t Solutins'\n",
    "print(s_escape)"
   ]
  },
  {
   "cell_type": "markdown",
   "metadata": {},
   "source": [
    "### Way 2: Just put an ```r``` before a string and make it a ```raw string```\n",
    "<p style=\"color:#11111;font-size:15px;\">When a string is raw, the python parser will not even attempt to make any substitutions within it. Essentially, we are telling the parser to completely leave our string alone.</p>"
   ]
  },
  {
   "cell_type": "code",
   "execution_count": 3,
   "metadata": {},
   "outputs": [
    {
     "name": "stdout",
     "output_type": "stream",
     "text": [
      "I am an \\n active learner of \\n python\n"
     ]
    }
   ],
   "source": [
    "s_raw = r'I am an \\n active learner of \\n python'\n",
    "print(s_raw)"
   ]
  },
  {
   "cell_type": "markdown",
   "metadata": {},
   "source": [
    "## Performing Queries with Regex in Python\n",
    "\n",
    "<p style=\"color:#111111;font-size:15px;\">\n",
    "1. re.match() <br> \n",
    "2. re.search() <br>\n",
    "3. re.findall()  <br>\n",
    "\n",
    "<br>\n",
    "**N.B.:** Each of the methods accepts a regular expression, and a string to scan for matches.</p>"
   ]
  },
  {
   "cell_type": "markdown",
   "metadata": {},
   "source": [
    "## match(pattern, str)\n",
    "\n",
    "\n",
    "<p> Returns a corresponding match object, if zero or more characters at the beginning of the string match the pattern <br> else ```None``` if the string does not match the given pattern</p>\n",
    " \n",
    "```re.match(pattern, string[, flags])```\n"
   ]
  },
  {
   "cell_type": "code",
   "execution_count": 4,
   "metadata": {},
   "outputs": [
    {
     "name": "stdout",
     "output_type": "stream",
     "text": [
      "No Match None\n"
     ]
    }
   ],
   "source": [
    "import re\n",
    "pattern =\"C\"\n",
    "sequence = \"IceCream\"\n",
    "match = re.match(pattern, sequence)\n",
    "if match:\n",
    "    print('found', match.group())\n",
    "else:\n",
    "    print(\"No Match\", match)"
   ]
  },
  {
   "cell_type": "code",
   "execution_count": 5,
   "metadata": {},
   "outputs": [
    {
     "name": "stdout",
     "output_type": "stream",
     "text": [
      "found C\n"
     ]
    }
   ],
   "source": [
    "sequence = \"Cake\"\n",
    "match = re.match(pattern, sequence)\n",
    "if match:\n",
    "    print('found', match.group(0))"
   ]
  },
  {
   "cell_type": "markdown",
   "metadata": {},
   "source": [
    "## search(pattern, str)\n",
    "\n",
    "<p>Scan through the string/sequence looking for the first location where the regular expressions produces a match.</p>\n",
    "\n",
    "```search(pattern, str)```"
   ]
  },
  {
   "cell_type": "code",
   "execution_count": 6,
   "metadata": {},
   "outputs": [
    {
     "data": {
      "text/plain": [
       "'dog'"
      ]
     },
     "execution_count": 6,
     "metadata": {},
     "output_type": "execute_result"
    }
   ],
   "source": [
    "match = re.search(r'dog', 'dog cat dog')\n",
    "match.group()"
   ]
  },
  {
   "cell_type": "markdown",
   "metadata": {},
   "source": [
    "<br>\n",
    "\n",
    "<p style=\"color:#AA0000;font-size:23px;\">Activity: Check if the word ```Time``` or ```time``` exist in below paragraph</p>\n",
    "<br>"
   ]
  },
  {
   "cell_type": "code",
   "execution_count": 7,
   "metadata": {},
   "outputs": [
    {
     "name": "stdout",
     "output_type": "stream",
     "text": [
      "Time\n",
      "I, too, am also a learner and am often lost in the\n",
      "joy of forever developing and simplifying. \n",
      "time\n",
      "time\n",
      "\n"
     ]
    }
   ],
   "source": [
    "quote = \"\"\"Time means a lot to me because, you see,\n",
    "I, too, am also a learner and am often lost in the\n",
    "joy of forever developing and simplifying. \n",
    "If you love life, don’t waste time,\n",
    "for time is what life is made up of.\n",
    "\"\"\"\n",
    "\n",
    "for line in quote.split('\\n'):\n",
    "    match = re.search(r'[Tt]ime', line)\n",
    "    if match:\n",
    "      print(match.group())\n",
    "    else:\n",
    "      print(line)"
   ]
  },
  {
   "cell_type": "markdown",
   "metadata": {},
   "source": [
    "<center style=\"color:#AA0000;font-size:25px;\">match() v/s search() </center>\n",
    "\n",
    "\n",
    "Python offers two different primitive operations based on regular expressions: ```match``` checks for a match only at the **beginning of the string**, while ```search``` checks for a match **anywhere in the string** (this is what Perl does by default).\n",
    "\n",
    "**N.B.:** Note that ```match``` may differ from ```search``` even when using a regular expression beginning with ```^```.\n",
    "\n",
    "```^``` matches only at the start of the string, or in  ```MULTILINE``` mode also immediately following a newline. The ```match``` operation succeeds only if the ```pattern matches``` at the ```start of the string``` regardless of mode, or at the starting position given by the optional pos argument regardless of whether a newline precedes it."
   ]
  },
  {
   "cell_type": "code",
   "execution_count": 8,
   "metadata": {},
   "outputs": [
    {
     "name": "stdout",
     "output_type": "stream",
     "text": [
      "Line 1: <_sre.SRE_Match object; span=(0, 4), match='some'>\n",
      "Line 2: None\n",
      "Line 3: None\n",
      "Line 4: <_sre.SRE_Match object; span=(10, 19), match='someother'>\n",
      "Line 5: <_sre.SRE_Match object; span=(10, 19), match='someother'>\n",
      "None\n",
      "<_sre.SRE_Match object; span=(4, 9), match='thing'>\n",
      "<_sre.SRE_Match object; span=(19, 24), match='thing'>\n"
     ]
    }
   ],
   "source": [
    "# example code:\n",
    "string_with_newlines = \"\"\"something\n",
    "someotherthing\"\"\"\n",
    "\n",
    "import re\n",
    "\n",
    "print(\"Line 1:\",re.match('some', string_with_newlines))# matches\n",
    "\n",
    "print(\"Line 2:\",re.match('someother', string_with_newlines)) # won't match\n",
    "      \n",
    "print(\"Line 3:\", re.match('^someother', string_with_newlines, re.MULTILINE)) # also won't match\n",
    "      \n",
    "print(\"Line 4:\", re.search('someother', string_with_newlines)) # finds something\n",
    "\n",
    "print(\"Line 5:\",  re.search('^someother', string_with_newlines, re.MULTILINE)) # also finds something\n",
    "      \n",
    "m = re.compile('thing$', re.MULTILINE)\n",
    "\n",
    "print(m.match(string_with_newlines)) # no match\n",
    "\n",
    "print(m.match(string_with_newlines, pos=4)) # matches\n",
    "\n",
    "print(m.search(string_with_newlines,re.MULTILINE)) # also matches"
   ]
  },
  {
   "cell_type": "markdown",
   "metadata": {},
   "source": [
    "## findall(pattern, str)\n",
    "\n",
    "<p>```findall``` returns all non-overlapping matches of pattern in string, as a list of strings. The string is scanned left-to-right, and matches are returned in the order in which they are found. </p>\n",
    "\n",
    "```re.findall(pattern, string[, flags])```\n"
   ]
  },
  {
   "cell_type": "code",
   "execution_count": 9,
   "metadata": {},
   "outputs": [
    {
     "data": {
      "text/plain": [
       "['fat', 'cat', 'eat', 'oat', 'rat', 'eat']"
      ]
     },
     "execution_count": 9,
     "metadata": {},
     "output_type": "execute_result"
    }
   ],
   "source": [
    "import re\n",
    "str=\"A fat cat doesn't eat oat but a rat eats bats.\"\n",
    "\n",
    "match = re.findall(r'[force]at', str)\n",
    "match"
   ]
  },
  {
   "cell_type": "markdown",
   "metadata": {},
   "source": [
    "<br>\n",
    "<br>\n",
    "<center style=\"color:#BB0000;font-size:30px;\">Mind Boggling Question\n",
    "<br>\n",
    "<br>\n",
    "<center style=\"color:#6666BB;font-size:20px;\">Activity: Can we extract the ```email IDs``` from below string.</p>"
   ]
  },
  {
   "cell_type": "code",
   "execution_count": 10,
   "metadata": {},
   "outputs": [
    {
     "name": "stdout",
     "output_type": "stream",
     "text": [
      "letspython3.x@gmail.com\n"
     ]
    }
   ],
   "source": [
    "email_address = \"Please support us via PayPal at: letspython3.x@gmail.com\"\n",
    "\n",
    "addresses = re.findall(r'[a-zA-Z0-9_.]+@[a-zA-Z0-9_.]+', email_address)\n",
    "for address in addresses:\n",
    "    print(address)"
   ]
  },
  {
   "cell_type": "markdown",
   "metadata": {},
   "source": [
    "## compile(pattern, [FLAGS])\n",
    "\n",
    "\n",
    "<p>if you want to use the same regexp more than once in a script, it might be a good idea to use a regular expression object, i.e. the ```compiled regex```.</p>\n",
    "\n",
    "```search(pattern, str)```\n",
    "\n",
    "**N.B.:** It's certainly possible to store strings and pass them to ```re.match```; however, that's less readable:\n"
   ]
  },
  {
   "cell_type": "code",
   "execution_count": 17,
   "metadata": {},
   "outputs": [
    {
     "name": "stdout",
     "output_type": "stream",
     "text": [
      "Enter something: gifyifyi\\\n"
     ]
    },
    {
     "data": {
      "text/plain": [
       "'gif'"
      ]
     },
     "execution_count": 17,
     "metadata": {},
     "output_type": "execute_result"
    }
   ],
   "source": [
    "pat = \"...\"\n",
    "\n",
    "mystr = input(\"Enter something: \")\n",
    "m = re.match(pat, mystr)\n",
    "m.group()"
   ]
  },
  {
   "cell_type": "markdown",
   "metadata": {},
   "source": [
    "### Versus compiling"
   ]
  },
  {
   "cell_type": "code",
   "execution_count": 15,
   "metadata": {},
   "outputs": [
    {
     "name": "stdout",
     "output_type": "stream",
     "text": [
      "Enter something: hty\n"
     ]
    },
    {
     "data": {
      "text/plain": [
       "'hty'"
      ]
     },
     "execution_count": 15,
     "metadata": {},
     "output_type": "execute_result"
    }
   ],
   "source": [
    "pat = re.compile(\"...\")\n",
    "\n",
    "str_1=input(\"Enter something: \")\n",
    "\n",
    "m = pat.match(str_1)\n",
    "m.group()\n"
   ]
  },
  {
   "cell_type": "markdown",
   "metadata": {},
   "source": [
    "**N.B:** They are fairly close but the second feels more natural and simpler when used repeatedly."
   ]
  },
  {
   "cell_type": "markdown",
   "metadata": {},
   "source": [
    "### Basic Patterns\n",
    "\n",
    "<p>The power of regular expressions is that they can specify patterns, not just fixed characters. Here are the most basic patterns which match single chars:\n",
    "\n",
    "<table>\n",
    "<tr>\n",
    "    <th>Pattern</th>\n",
    "    <th>Description</th>\n",
    "</tr>\n",
    "<tr>\n",
    "    <td>a, X, 9 </td>\n",
    "    <td>Ordinary characters just match themselves exactly</td>\n",
    "</tr>\n",
    "<tr>\n",
    "    <td>```.``` (a period)</td>\n",
    "    <td> matches any single character except newline ```\\n```</td>\n",
    "</tr>\n",
    "    \n",
    "<tr>\n",
    "    <td>\\w (lowercase w)  </td>\n",
    "    <td> matches a \"word\" character: a letter or digit or underbar [a-zA-Z0-9_]\n",
    "        <br>It only matches a single word char, not a whole word.</td> \n",
    "</tr>\n",
    "<tr>\n",
    "    <td>\\W (upper case W) </td>\n",
    "    <td> matches any non-word character.</td>\n",
    "</tr>\n",
    "<tr>\n",
    "    <td>\\b</td>\n",
    "    <td> boundary between word and non-word</td>\n",
    "</tr>\n",
    "<tr>\n",
    "    <td>\\s (lowercase s)</td>\n",
    "    <td> matches a single whitespace character <br>space, newline, return, tab, form [ \\n\\r\\t\\f]. </td>\n",
    "</tr>\n",
    "<tr>\n",
    "<td>\\S (upper case S) </td><td>matches any non-whitespace character.</td>\n",
    "</tr>\n",
    "<tr>\n",
    "    <td>\\t, \\n, \\r </td>\n",
    "    <td> tab, newline, return</td>\n",
    "</tr>\n",
    "<tr>\n",
    "    <td>\\d </td>\n",
    "    <td>decimal digit [0-9] </td>\n",
    "</tr>\n",
    "<tr>\n",
    "    <td>^ = start, $ = end </td>\n",
    "    <td> match the start or end of the string</td>\n",
    "</tr>\n",
    "<tr>\n",
    "    <td>```\\``` </td>\n",
    "    <td> inhibit the \"specialness\" of a character</td>\n",
    "</tr>\n",
    "</table>\n",
    "             "
   ]
  },
  {
   "cell_type": "markdown",
   "metadata": {},
   "source": []
  },
  {
   "cell_type": "markdown",
   "metadata": {},
   "source": [
    "## Search and Replace with ```sub```\n",
    "\n",
    "<p>Every match of the regular expression regex in the string subject \n",
    "will be replaced by the string replacement. </p>\n",
    "\n",
    "<br>\n",
    "<p style=\"color:#AA0000;font-size:25px;\">Activity: replace ```yes``` or ```Yes``` with ```no```</p>\n",
    "\n",
    "```re.sub(regex, replacement, subject)```"
   ]
  },
  {
   "cell_type": "code",
   "execution_count": null,
   "metadata": {},
   "outputs": [],
   "source": [
    "str = \"yes I said yes I will Yes.\"\n",
    "res = re.sub(\"[yY]es\",\"no\", str)\n",
    "res"
   ]
  },
  {
   "cell_type": "markdown",
   "metadata": {},
   "source": [
    "## Repetitions\n",
    "\n",
    "<center style=\"color:#AA0000;font-size:20px;\">find long patterns in a sequence.\n",
    "\n",
    "|Character |Description|\n",
    "|----------|:----------|\n",
    "| ```+``` | Checks for one or more characters to its left|\n",
    "| ```*``` | Checks for zero or more characters to its left.|\n",
    "| ```?``` | Checks for exactly zero or one character to its left.|\n"
   ]
  },
  {
   "cell_type": "code",
   "execution_count": null,
   "metadata": {},
   "outputs": [],
   "source": [
    "re.search(r'Co+kie', 'Cooookie').group()"
   ]
  },
  {
   "cell_type": "code",
   "execution_count": null,
   "metadata": {},
   "outputs": [],
   "source": [
    "re.search(r'Ca*o*kie', 'Caaaokie').group()"
   ]
  },
  {
   "cell_type": "code",
   "execution_count": null,
   "metadata": {},
   "outputs": [],
   "source": [
    "re.search(r'Colou?r', 'Color').group()"
   ]
  },
  {
   "cell_type": "markdown",
   "metadata": {},
   "source": [
    "<center style=\"color:#AA0000;font-size:20px;\"> But what if you want to check for exact number of sequence repetition?\n"
   ]
  },
  {
   "cell_type": "markdown",
   "metadata": {},
   "source": [
    "<br>\n",
    "<br>\n",
    "<center style=\"color:#BB0000;font-size:30px;\">Mind Boggling Question\n",
    "<br>\n",
    " <br>\n",
    "<center style=\"color:#6666BB;font-size:20px;\">Can we write a regex pattern to extract ```<h1>``` from  ```<h1>TITLE</h1>``` ?"
   ]
  },
  {
   "cell_type": "code",
   "execution_count": null,
   "metadata": {},
   "outputs": [],
   "source": [
    "import re\n",
    "heading  = r'<h1>TITLE</h1>regex'\n",
    "re.match(r'<.*>', heading).group()"
   ]
  },
  {
   "cell_type": "markdown",
   "metadata": {},
   "source": [
    "### Description\n",
    "\n",
    "The RE matches the ```'<'``` in ```'<h1>'```, and the ```.*``` consumes the rest of the string. There’s still more left in the RE, though, and the ```>``` can’t match at the end of the string,\n",
    "so the regular expression engine has to ```backtrack character by character``` until it finds a match for the ```>```. \n",
    "The final match extends from the ```'<'``` in ```'<h1>'``` to the ```>``` in ```'</h1>'```, ofcourse which isn’t expected.\n",
    "\n",
    "This behavior of ```*```,  ```+``` etc is known as ```Greedy behavior```."
   ]
  },
  {
   "cell_type": "code",
   "execution_count": null,
   "metadata": {},
   "outputs": [],
   "source": [
    "re.match(r'<.*?>', heading).group()"
   ]
  },
  {
   "cell_type": "markdown",
   "metadata": {},
   "source": [
    "### Description\n",
    "Adding ```?``` after the qualifier makes it perform the match in a non-greedy or minimal fashion; That is, as few characters as possible will be matched. \n",
    "Now, ```>``` is tried immediately after the first ```<``` matches, and ```when it fails```, the ```engine advances a character at a time```, retrying the ```>``` at every step.\n",
    "\n",
    "Non-greedy qualifiers ```*?```, ```+?```, ```??```, or ```{m,n}?```, which ```match as little text as possible```. \n",
    "\n",
    "This behavior of ```*?```, ```+?```, ```??```, or ```{m,n}?```is known as ```Non-Greedy behavior```."
   ]
  },
  {
   "cell_type": "markdown",
   "metadata": {},
   "source": [
    "### Groups and Grouping using Regular Expressions\n",
    "Grouping feature allows to pick up parts of the matching text.\n",
    "\n",
    "Parts of a regular expression pattern bounded by parenthesis ```()``` are called ```groups```. The parenthesis does not change what the expression matches, but rather forms groups within the matched sequence. The plain ```match.group()``` without any argument is still the whole matched text as usual."
   ]
  },
  {
   "cell_type": "code",
   "execution_count": null,
   "metadata": {},
   "outputs": [],
   "source": [
    "my_str = \"Customer number: 232454, Date: February 12, 2011\"\n",
    "mo = re.search(\"[0-9]+\", my_str)\n",
    "print(mo.group())\n",
    "print(mo.span())\n",
    "print(mo.start())\n",
    "print(mo.end())"
   ]
  },
  {
   "cell_type": "code",
   "execution_count": null,
   "metadata": {},
   "outputs": [],
   "source": [
    "my_str = \"Customer number: 232454, Date: February 12, 2011\"\n",
    "mo = re.search(\"([0-9]+).*: (.*)\", my_str)\n",
    "print(mo.group())\n",
    "print(mo.group(1))\n",
    "print(mo.group(2))\n",
    "print(mo.group(1,2))"
   ]
  },
  {
   "cell_type": "markdown",
   "metadata": {},
   "source": [
    "<p><br><br></p>\n",
    "<center style=\"color:#3B3B30;font-size:35px;\">Thank you for being an active listener.</center>\n",
    "<p><br></p>\n",
    "\n",
    "### Please show us your support by ```like```, ```share``` and ```subscribe``` to our channel : <a href=\"https://www.youtube.com/channel/UCWHI-Ebf7_2ogLINkBIqaYA\">```letspython3.x```</a>"
   ]
  }
 ],
 "metadata": {
  "kernelspec": {
   "display_name": "Python 3",
   "language": "python",
   "name": "python3"
  },
  "language_info": {
   "codemirror_mode": {
    "name": "ipython",
    "version": 3
   },
   "file_extension": ".py",
   "mimetype": "text/x-python",
   "name": "python",
   "nbconvert_exporter": "python",
   "pygments_lexer": "ipython3",
   "version": "3.6.7"
  }
 },
 "nbformat": 4,
 "nbformat_minor": 2
}
