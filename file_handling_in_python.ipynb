{
 "cells": [
  {
   "cell_type": "markdown",
   "metadata": {},
   "source": [
    "<p>\n",
    "\n",
    "<br><br>\n",
    "\n",
    "\n",
    "\n",
    "</p>"
   ]
  },
  {
   "cell_type": "markdown",
   "metadata": {},
   "source": [
    "<center><h1 style=\"font-size:40px;color:#AA66AA\">File Handling in Python !!! (Part-1) &#128013;</h1></center>"
   ]
  },
  {
   "cell_type": "markdown",
   "metadata": {},
   "source": [
    "<center><img src=\"images/file_handling.jpg\" style=\"width:600px;height:400px;\"/>\n",
    "<br><br>"
   ]
  },
  {
   "cell_type": "markdown",
   "metadata": {},
   "source": [
    "<center><img src=\"images/files_icons.png\" style=\"width:450px;height:400px;\"/>"
   ]
  },
  {
   "cell_type": "markdown",
   "metadata": {},
   "source": [
    "<br><br>"
   ]
  },
  {
   "cell_type": "markdown",
   "metadata": {},
   "source": [
    "<center><img src=\"images/python-open-function.jpg\" style=\"width:600px;height:400px;\"/>\n",
    "    \n",
    "<br><br><br>"
   ]
  },
  {
   "cell_type": "code",
   "execution_count": null,
   "metadata": {},
   "outputs": [],
   "source": [
    "file_object = open('data/stock_data.csv', 'r')\n",
    "file_object"
   ]
  },
  {
   "cell_type": "code",
   "execution_count": null,
   "metadata": {},
   "outputs": [],
   "source": [
    "data = file_object.read()\n",
    "print(data)"
   ]
  },
  {
   "cell_type": "code",
   "execution_count": null,
   "metadata": {},
   "outputs": [],
   "source": [
    "if file_object.closed:\n",
    "    file_object.close()\n",
    "    print('file is closed')"
   ]
  },
  {
   "cell_type": "markdown",
   "metadata": {},
   "source": [
    "<br><br><br>"
   ]
  },
  {
   "cell_type": "markdown",
   "metadata": {},
   "source": [
    "### Methods to Read from a file \n",
    "\n",
    "    1. read()\n",
    "    2. readlines()\n",
    "    3. readline()\n",
    "    4. for loop\n",
    "<br><br><br>"
   ]
  },
  {
   "cell_type": "code",
   "execution_count": null,
   "metadata": {},
   "outputs": [],
   "source": [
    "# Reading a file using for loop\n",
    "\n",
    "file_object = open('data/stock_data.csv', 'r')\n",
    "\n",
    "for line in file_object:\n",
    "    print(line)\n",
    "file_object.close()\n",
    "\n",
    "# why does the output differ from read() above ?"
   ]
  },
  {
   "cell_type": "markdown",
   "metadata": {},
   "source": [
    "<br><br><br>\n",
    "<pre style=\"color:#BB0000;font-size:20px;\">Activity : Read only 5 characters from each line of file named stock_data.csv starting from 4th character of every line </pre>\n",
    "<br><br>"
   ]
  },
  {
   "cell_type": "code",
   "execution_count": null,
   "metadata": {},
   "outputs": [],
   "source": [
    "file_object = open('data/stock_data.csv', 'r')\n",
    "for line in file_object:\n",
    "    chars = line[3:8]\n",
    "    print(chars)\n",
    "file_object.close()"
   ]
  },
  {
   "cell_type": "markdown",
   "metadata": {},
   "source": [
    "<br><br><br><br><br><br>"
   ]
  },
  {
   "cell_type": "markdown",
   "metadata": {},
   "source": [
    "## Writing to a file\n",
    "\n",
    "<br><br><br>"
   ]
  },
  {
   "cell_type": "code",
   "execution_count": null,
   "metadata": {},
   "outputs": [],
   "source": [
    "fin = open('data/session2_beginner.txt', 'w')\n",
    "fin.write('This is the demo for file handling.\\n')\n",
    "fin.close()\n",
    "\n",
    "fout = open('data/session2_beginner.txt')\n",
    "data = fout.read()\n",
    "print(data)\n",
    "fout.close()"
   ]
  },
  {
   "cell_type": "markdown",
   "metadata": {},
   "source": [
    "<br><br><br>"
   ]
  },
  {
   "cell_type": "markdown",
   "metadata": {},
   "source": [
    "## Appending to a file\n",
    "\n",
    "<br><br><br>"
   ]
  },
  {
   "cell_type": "code",
   "execution_count": null,
   "metadata": {},
   "outputs": [],
   "source": [
    "fin = open('data/session2_beginner.txt', 'a')\n",
    "fin.write('I am the appended line.\\n')\n",
    "fin.close()\n",
    "\n",
    "fout = open('data/session2_beginner.txt')\n",
    "data = fout.read()\n",
    "print(data)\n",
    "fout.close()"
   ]
  },
  {
   "cell_type": "markdown",
   "metadata": {},
   "source": [
    "<br><br><br><br>\n",
    "<p style=\"color:#555500;font-size:20px;\">Activity : Simultaneously reading and writing to a file</p>\n",
    "<p><br></p>"
   ]
  },
  {
   "cell_type": "code",
   "execution_count": null,
   "metadata": {},
   "outputs": [],
   "source": [
    "filename = \"data/stock_data.csv\"\n",
    "with open(filename, \"r\") as fout, open(\"output.txt\", \"w\") as fin:\n",
    "    for line in fout:\n",
    "        symbol = line.split(',')[-1]\n",
    "        fin.write(symbol)"
   ]
  },
  {
   "cell_type": "code",
   "execution_count": null,
   "metadata": {},
   "outputs": [],
   "source": [
    "with open(\"output.txt\") as fout:\n",
    "    for line in fout:\n",
    "        print(line)"
   ]
  },
  {
   "cell_type": "markdown",
   "metadata": {},
   "source": [
    "<p><br><br></p>\n",
    "<center style=\"color:#3B3B30;font-size:35px;\">Thank you for being an active listener.</center>\n",
    "<p><br></p>\n",
    "\n",
    "### Please show us your support by ```like```, ```share``` and ```subscribe``` to our youtube channel : <a href=\"https://www.youtube.com/channel/UCWHI-Ebf7_2ogLINkBIqaYA\">```letspython3.x```</a>\n",
    "\n",
    "\n",
    "<br><br><br><br>"
   ]
  },
  {
   "cell_type": "markdown",
   "metadata": {},
   "source": [
    "<br><br><br>\n",
    "<p style=\"color:#BB0000;font-size:30px;\">Mind Boggling Question</p>\n",
    "<p style=\"color:#555500;font-size:20px;\">Activity : Append the string ```Starts from here``` at the beginning of the file </p>\n",
    "<br><br><br>"
   ]
  },
  {
   "cell_type": "code",
   "execution_count": null,
   "metadata": {},
   "outputs": [],
   "source": [
    "fout = open('data/session2_beginner.txt', 'r')\n",
    "data = fout.read()\n",
    "print(data)\n",
    "fout.close()"
   ]
  },
  {
   "cell_type": "code",
   "execution_count": null,
   "metadata": {},
   "outputs": [],
   "source": [
    "fin = open('data/session2_beginner.txt', 'a')\n",
    "fin.seek(0)\n",
    "fin.write('Starts from here. \\n')\n",
    "fin.close()\n",
    "\n",
    "fout = open('data/session2_beginner.txt', 'r')\n",
    "data = fout.read()\n",
    "print(data)\n",
    "fout.close()"
   ]
  },
  {
   "cell_type": "markdown",
   "metadata": {},
   "source": [
    "### Description:\n",
    "\n",
    "<p style=\"font-size:15px;\">In modes ```a``` or ```a+```, any writing is done at the end of the file, even if at the current moment when the ```write()``` function is triggered the file's pointer is not at the end of the file:\n",
    "```The pointer is moved to the end of file before any writing.```</p>"
   ]
  },
  {
   "cell_type": "code",
   "execution_count": null,
   "metadata": {},
   "outputs": [],
   "source": [
    "# Correct Answer\n",
    "\n",
    "fin = open('data/session2_beginner.txt', 'r+')\n",
    "content = fin.read()\n",
    "print(content)\n",
    "fin.seek(0,0)\n",
    "fin.write('I should be appended at the begining. \\n')\n",
    "fin.close()\n",
    "\n",
    "\n",
    "fout = open('data/session2_beginner.txt', 'r')\n",
    "data = fout.read()\n",
    "print(data)\n",
    "fout.close()"
   ]
  },
  {
   "cell_type": "markdown",
   "metadata": {},
   "source": [
    "<p><br><br></p>\n",
    "<center style=\"color:#3B3B30;font-size:35px;\">Thank you for being an active listener.</center>\n",
    "<p><br></p>\n",
    "\n",
    "### Please show us your support by ```like```, ```share``` and ```subscribe``` to our youtube channel : <a href=\"https://www.youtube.com/channel/UCWHI-Ebf7_2ogLINkBIqaYA\">```letspython3.x```</a>"
   ]
  }
 ],
 "metadata": {
  "kernelspec": {
   "display_name": "Python 3",
   "language": "python",
   "name": "python3"
  },
  "language_info": {
   "codemirror_mode": {
    "name": "ipython",
    "version": 3
   },
   "file_extension": ".py",
   "mimetype": "text/x-python",
   "name": "python",
   "nbconvert_exporter": "python",
   "pygments_lexer": "ipython3",
   "version": "3.6.7"
  }
 },
 "nbformat": 4,
 "nbformat_minor": 2
}
