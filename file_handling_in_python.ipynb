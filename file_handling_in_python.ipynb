{
 "cells": [
  {
   "cell_type": "markdown",
   "metadata": {},
   "source": [
    "<h1 style=font-size:40px>File Handling in Python !!! (Part-1) &#128013;</h1></center>\n",
    "        "
   ]
  },
  {
   "cell_type": "markdown",
   "metadata": {},
   "source": [
    "<center><img src=\"images/file_handling.jpg\" style=\"width:450px;height:250px;\"/>"
   ]
  },
  {
   "cell_type": "markdown",
   "metadata": {},
   "source": [
    "### Methods to Read from a file \n",
    "\n",
    "    1. read()\n",
    "    2. readlines()\n",
    "    3. readline()\n",
    "    4. for loop\n"
   ]
  },
  {
   "cell_type": "code",
   "execution_count": 1,
   "metadata": {},
   "outputs": [
    {
     "name": "stdout",
     "output_type": "stream",
     "text": [
      "Apple,AAPL,152.70\n",
      "Alphabet,GOOGL,873.96\n",
      "IBM,IBM,194.37\n",
      "Microsoft,MSFT,65.67\n",
      "Oracle,ORCL,62.82\n",
      "\n"
     ]
    }
   ],
   "source": [
    "file_object = open('data/stock_data.csv', 'r')\n",
    "data = file_object.read()\n",
    "print(data)\n",
    "file_object.close()"
   ]
  },
  {
   "cell_type": "code",
   "execution_count": 2,
   "metadata": {},
   "outputs": [
    {
     "name": "stdout",
     "output_type": "stream",
     "text": [
      "Apple,AAPL,152.70\n",
      "\n",
      "Alphabet,GOOGL,873.96\n",
      "\n",
      "IBM,IBM,194.37\n",
      "\n",
      "Microsoft,MSFT,65.67\n",
      "\n",
      "Oracle,ORCL,62.82\n",
      "\n"
     ]
    }
   ],
   "source": [
    "# Reading a file using for loop\n",
    "file_object = open('data/stock_data.csv', 'r')\n",
    "for line in file_object:\n",
    "    print(line)\n",
    "file_object.close()\n",
    "\n",
    "# why does the output differ from read() ?"
   ]
  },
  {
   "cell_type": "markdown",
   "metadata": {},
   "source": [
    "<p><br></p>\n",
    "<p style=\"color:#BB0000;font-size:20px;\">Activity : Read only 5 characters from each line of file named stock_data.csv starting from 4th character of every line </p>\n",
    "<p><br></p>"
   ]
  },
  {
   "cell_type": "code",
   "execution_count": 3,
   "metadata": {},
   "outputs": [
    {
     "name": "stdout",
     "output_type": "stream",
     "text": [
      "le,AA\n",
      "habet\n",
      ",IBM,\n",
      "rosof\n",
      "cle,O\n"
     ]
    }
   ],
   "source": [
    "file_object = open('data/stock_data.csv', 'r')\n",
    "for line in file_object:\n",
    "    chars = line[3:8]\n",
    "    print(chars)\n",
    "file_object.close()"
   ]
  },
  {
   "cell_type": "markdown",
   "metadata": {},
   "source": [
    "### Writing to a file"
   ]
  },
  {
   "cell_type": "code",
   "execution_count": 4,
   "metadata": {},
   "outputs": [
    {
     "name": "stdout",
     "output_type": "stream",
     "text": [
      "This is the demo for file handling.\n",
      "\n"
     ]
    }
   ],
   "source": [
    "fin = open('data/session2_beginner.txt', 'w')\n",
    "fin.write('This is the demo for file handling.\\n')\n",
    "fin.close()\n",
    "\n",
    "fout = open('data/session2_beginner.txt')\n",
    "data = fout.read()\n",
    "print(data)\n",
    "fout.close()"
   ]
  },
  {
   "cell_type": "markdown",
   "metadata": {},
   "source": [
    "### Appending to a file"
   ]
  },
  {
   "cell_type": "code",
   "execution_count": 5,
   "metadata": {},
   "outputs": [
    {
     "name": "stdout",
     "output_type": "stream",
     "text": [
      "This is the demo for file handling.\n",
      "I am the appended line.\n",
      "\n"
     ]
    }
   ],
   "source": [
    "fin = open('data/session2_beginner.txt', 'a')\n",
    "fin.write('I am the appended line.\\n')\n",
    "fin.close()\n",
    "\n",
    "fout = open('data/session2_beginner.txt')\n",
    "data = fout.read()\n",
    "print(data)\n",
    "fout.close()"
   ]
  },
  {
   "cell_type": "markdown",
   "metadata": {},
   "source": [
    "<p><br></p>\n",
    "<p style=\"color:#BB0000;font-size:30px;\">Mind Boggling Question</p>\n",
    "<p style=\"color:#555500;font-size:20px;\">Activity : Append the string ```Starts from here``` at the beginning of the file </p>\n",
    "<p><br></p>"
   ]
  },
  {
   "cell_type": "code",
   "execution_count": 6,
   "metadata": {},
   "outputs": [
    {
     "name": "stdout",
     "output_type": "stream",
     "text": [
      "This is the demo for file handling.\n",
      "I am the appended line.\n",
      "\n"
     ]
    }
   ],
   "source": [
    "fout = open('data/session2_beginner.txt', 'r')\n",
    "data = fout.read()\n",
    "print(data)\n",
    "fout.close()"
   ]
  },
  {
   "cell_type": "code",
   "execution_count": 7,
   "metadata": {},
   "outputs": [
    {
     "name": "stdout",
     "output_type": "stream",
     "text": [
      "This is the demo for file handling.\n",
      "I am the appended line.\n",
      "Starts from here. \n",
      "\n"
     ]
    }
   ],
   "source": [
    "fin = open('data/session2_beginner.txt', 'a')\n",
    "fin.seek(0)\n",
    "fin.write('Starts from here. \\n')\n",
    "fin.close()\n",
    "\n",
    "fout = open('data/session2_beginner.txt', 'r')\n",
    "data = fout.read()\n",
    "print(data)\n",
    "fout.close()"
   ]
  },
  {
   "cell_type": "markdown",
   "metadata": {},
   "source": [
    "### Description:\n",
    "\n",
    "<p style=\"font-size:15px;\">In modes ```a``` or ```a+```, any writing is done at the end of the file, even if at the current moment when the ```write()``` function is triggered the file's pointer is not at the end of the file:\n",
    "```The pointer is moved to the end of file before any writing.```</p>"
   ]
  },
  {
   "cell_type": "code",
   "execution_count": 8,
   "metadata": {},
   "outputs": [
    {
     "name": "stdout",
     "output_type": "stream",
     "text": [
      "This is the demo for file handling.\n",
      "I am the appended line.\n",
      "Starts from here. \n",
      "\n",
      "I should be appended at the begining. \n",
      "m the appended line.\n",
      "Starts from here. \n",
      "\n"
     ]
    }
   ],
   "source": [
    "# Correct Answer\n",
    "\n",
    "fin = open('data/session2_beginner.txt', 'r+')\n",
    "content = fin.read()\n",
    "print(content)\n",
    "fin.seek(0,0)\n",
    "fin.write('I should be appended at the begining. \\n')\n",
    "fin.close()\n",
    "\n",
    "\n",
    "fout = open('data/session2_beginner.txt', 'r')\n",
    "data = fout.read()\n",
    "print(data)\n",
    "fout.close()"
   ]
  },
  {
   "cell_type": "markdown",
   "metadata": {},
   "source": [
    "<p><br><br></p>\n",
    "<center style=\"color:#3B3B30;font-size:35px;\">Thank you for being an active listener.</center>\n",
    "<p><br></p>\n",
    "\n",
    "### Please show us your support by ```like```, ```share``` and ```subscribe``` to our channel : <a href=\"https://www.youtube.com/channel/UCWHI-Ebf7_2ogLINkBIqaYA\">```letspython3.x```</a>"
   ]
  }
 ],
 "metadata": {
  "kernelspec": {
   "display_name": "Python 3",
   "language": "python",
   "name": "python3"
  },
  "language_info": {
   "codemirror_mode": {
    "name": "ipython",
    "version": 3
   },
   "file_extension": ".py",
   "mimetype": "text/x-python",
   "name": "python",
   "nbconvert_exporter": "python",
   "pygments_lexer": "ipython3",
   "version": "3.6.7"
  }
 },
 "nbformat": 4,
 "nbformat_minor": 2
}
