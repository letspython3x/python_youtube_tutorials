{
 "cells": [
  {
   "cell_type": "markdown",
   "metadata": {},
   "source": [
    "# File Handling in Python !!! (Part-2)\n",
    "### File modes\n",
    "\n",
    "<center><img src=\"../images/file_modes.png\" style=\"width:600px;height:400px;\"/>\n",
    "<a href='https://stackoverflow.com/a/30566011/3940406'>Thanks to Stackoverflow</a>"
   ]
  },
  {
   "cell_type": "markdown",
   "metadata": {},
   "source": [
    "### ```tell``` & ```seek```\n",
    "\n",
    "**tell()** : Get to know the current position in the file <br>\n",
    "**seek()** : To change the current position in a file"
   ]
  },
  {
   "cell_type": "code",
   "execution_count": 2,
   "metadata": {},
   "outputs": [
    {
     "name": "stdout",
     "output_type": "stream",
     "text": [
      "File Pointer at :  0\n",
      "Apple,AAPL,152.70\n",
      "\n",
      "File Pointer at :  18\n"
     ]
    }
   ],
   "source": [
    "fout = open('../data/stock_data.csv', 'r')\n",
    "print(\"File Pointer at : \", fout.tell())\n",
    "data = fout.readline()\n",
    "print(data)\n",
    "print(\"File Pointer at : \", fout.tell())\n",
    "fout.close()"
   ]
  },
  {
   "cell_type": "code",
   "execution_count": 3,
   "metadata": {},
   "outputs": [
    {
     "name": "stdout",
     "output_type": "stream",
     "text": [
      "File Pointer at :  0\n",
      "Apple,AAPL,152.70\n",
      "\n",
      "File Pointer at :  11\n"
     ]
    }
   ],
   "source": [
    "fout = open('../data/stock_data.csv', 'r')\n",
    "print(\"File Pointer at : \", fout.tell())\n",
    "data = fout.readline()\n",
    "print(data)\n",
    "fout.seek(6)\n",
    "fout.read(5)\n",
    "print(\"File Pointer at : \", fout.tell())\n",
    "fout.close()"
   ]
  },
  {
   "cell_type": "markdown",
   "metadata": {},
   "source": [
    "<p><br></p>\n",
    "<p style=\"color:#BB0000;font-size:20px;\"> Why closing a file is neccesary ??? </p>\n",
    "\n",
    "<p>```close``` is always necessary when dealing with files, it is not a good idea to leave `open file handlers` all over the place. They will eventually be closed when the file object is garbage collected but you do not know when that will be and in the mean time you will be wasting system resources by holding to file handlers you no longer need.</p>"
   ]
  },
  {
   "cell_type": "code",
   "execution_count": null,
   "metadata": {},
   "outputs": [],
   "source": [
    "fin = open('../data/session2_beginner.txt', 'r')\n",
    "try:\n",
    "    data = fin.read()\n",
    "    print(data)\n",
    "    print(1+'test')\n",
    "\n",
    "except Exception as e:\n",
    "    print('Error message: ', e)        \n",
    "finally:\n",
    "    fin.close()\n",
    "    print('file connection closed')\n",
    "\n",
    "# if not fin.closed:\n",
    "#     print('The file is still open')\n",
    "#     fin.close()\n"
   ]
  },
  {
   "cell_type": "markdown",
   "metadata": {},
   "source": [
    "<p><br></p>\n",
    "<p style=\"color:#BB0000;font-size:20px;\"> Isn't Above code is too much ```Just for closing a file``` ???</p>\n"
   ]
  },
  {
   "cell_type": "markdown",
   "metadata": {},
   "source": [
    "## File Handling using ```with```"
   ]
  },
  {
   "cell_type": "markdown",
   "metadata": {},
   "source": [
    "```\n",
    "with open(filepath, file_mode) as file_object:\n",
    "    STATEMENTS\n",
    "```"
   ]
  },
  {
   "cell_type": "code",
   "execution_count": null,
   "metadata": {},
   "outputs": [],
   "source": [
    "# no need to close the file, with will take care of it for you.\n",
    "\n",
    "with open('../data/session2_beginner.txt') as file_object:\n",
    "        data  = file_object.read()        \n",
    "        print(data)\n",
    "\n",
    "print(\"The file is closed\" if file_object.closed else \"The file is still open\")"
   ]
  },
  {
   "cell_type": "markdown",
   "metadata": {},
   "source": [
    "<p><br></p>\n",
    "<p style=\"color:#555500;font-size:20px;\">Activity : Append the string ```Starts from here``` at the beginning of the file using ```with``` statement </p>\n",
    "<p><br></p>"
   ]
  },
  {
   "cell_type": "code",
   "execution_count": 1,
   "metadata": {},
   "outputs": [
    {
     "name": "stdout",
     "output_type": "stream",
     "text": [
      "File Pointer position:  0\n",
      "I should be appended at the begining. \n",
      "\n",
      "File Pointer position:  24\n",
      "File Pointer changed position:  5\n",
      "Starts from here. \n",
      "the begining. \n",
      "\n"
     ]
    }
   ],
   "source": [
    "# Correct Answer (another Way)\n",
    "filename = '../data/session2_beginner.txt'\n",
    "\n",
    "with open(filename, 'w+') as fin:\n",
    "    fin.write('I should be appended at the begining. \\n')    \n",
    "    fin.seek(0)\n",
    "    print(\"File Pointer position: \", fin.tell())    \n",
    "    data = fin.read()\n",
    "    print(data)\n",
    "    \n",
    "    fin.seek(0)\n",
    "    # data overwritten\n",
    "    fin.write('File Starts from here. \\n')\n",
    "    print(\"File Pointer position: \", fin.tell())\n",
    "    \n",
    "    fin.seek(5)\n",
    "    print(\"File Pointer changed position: \", fin.tell())    \n",
    "    data = fin.read()\n",
    "    print(data)\n",
    "    \n"
   ]
  },
  {
   "cell_type": "markdown",
   "metadata": {},
   "source": [
    "<p><br></p>\n",
    "<p style=\"color:#555500;font-size:20px;\">Activity : Simultaneous ```read``` and ```write``` to a file</p>\n",
    "<p><br></p>"
   ]
  },
  {
   "cell_type": "code",
   "execution_count": null,
   "metadata": {},
   "outputs": [],
   "source": [
    "filename = \"data/stock_data.csv\"\n",
    "with open(filename, \"r\") as fout, open(\"output.txt\", \"w\") as fin:\n",
    "    for line in fout:\n",
    "        symbol = line.split(',')[-1]\n",
    "        fin.write(symbol)"
   ]
  },
  {
   "cell_type": "code",
   "execution_count": null,
   "metadata": {},
   "outputs": [],
   "source": [
    "with open(\"output.txt\") as fout:\n",
    "    for line in fout:\n",
    "        print(line)"
   ]
  }
 ],
 "metadata": {
  "kernelspec": {
   "display_name": "Python 3",
   "language": "python",
   "name": "python3"
  },
  "language_info": {
   "codemirror_mode": {
    "name": "ipython",
    "version": 3
   },
   "file_extension": ".py",
   "mimetype": "text/x-python",
   "name": "python",
   "nbconvert_exporter": "python",
   "pygments_lexer": "ipython3",
   "version": "3.6.8"
  }
 },
 "nbformat": 4,
 "nbformat_minor": 2
}
