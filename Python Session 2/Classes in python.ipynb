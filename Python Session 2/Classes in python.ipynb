{
 "cells": [
  {
   "cell_type": "markdown",
   "metadata": {},
   "source": [
    "# Classes in Python !!!\n",
    "<br><br>\n",
    "<center><img src=\"../images/Classes-and-Objects-2.png\" style=\"width:900px;height:300px;\"/>"
   ]
  },
  {
   "cell_type": "markdown",
   "metadata": {},
   "source": [
    "Python is an `object-oriented programming language`. This means that almost all the code is implemented using a special construct called classes. Programmers use classes to keep related things together.\n",
    "\n",
    "(A), it represents a blueprint of a house that can be considered as `Class`. With the same blueprint, we can create several houses (B) and these can be considered as `Objects`. "
   ]
  },
  {
   "cell_type": "markdown",
   "metadata": {},
   "source": [
    "### What is a class?\n",
    "\n",
    "A class is a code template for creating objects. Objects have `member variables` and `have behaviour` associated with them. In python a class is created by the keyword `class`.\n",
    "\n",
    "An object is created using the constructor of the class. This object will then be called the instance of the class. In Python we create instances in the following manner"
   ]
  },
  {
   "cell_type": "code",
   "execution_count": null,
   "metadata": {},
   "outputs": [],
   "source": [
    "class Complex:\n",
    "    pass\n",
    "\n",
    "c = Complex()\n",
    "print(c)"
   ]
  },
  {
   "cell_type": "markdown",
   "metadata": {},
   "source": [
    "- `Class variable` is a variable that is shared by all the different objects/instances of a class.\n",
    "- `Instance variables` are variables which are unique to each instance. It is defined inside a method and belongs only to the current instance of a class.\n",
    "- `Methods` are also called as functions which are defined in a class and describes the behaviour of an object."
   ]
  },
  {
   "cell_type": "markdown",
   "metadata": {},
   "source": [
    "### Attributes and Methods in class\n",
    "\n",
    "A class by itself is of no use unless there is some functionality associated with it.\n",
    "Functionalities are defined by setting `attributes`, which act as containers for data and\n",
    "functions related to those attributes. Those functions are called `methods`."
   ]
  },
  {
   "cell_type": "code",
   "execution_count": null,
   "metadata": {},
   "outputs": [],
   "source": [
    "class ComplexNumber:\n",
    "    real = 2\n",
    "    imag = 3\n",
    "    \n",
    "    def getData(self):\n",
    "        print(\"{0}+{1}j\".format(self.real,self.imag))"
   ]
  },
  {
   "cell_type": "code",
   "execution_count": null,
   "metadata": {},
   "outputs": [],
   "source": [
    "Complex = ComplexNumber()\n",
    "print(Complex.real)\n",
    "print(c.real)"
   ]
  },
  {
   "cell_type": "code",
   "execution_count": null,
   "metadata": {},
   "outputs": [],
   "source": [
    "c.getData()"
   ]
  },
  {
   "cell_type": "code",
   "execution_count": null,
   "metadata": {},
   "outputs": [],
   "source": [
    "class employee:\n",
    "    def __init__(self, first, last, sal):\n",
    "        self.fname = first\n",
    "        self.lname = last\n",
    "        self.sal = sal\n",
    "        self.email = first + '.' + last + '@company.com'\n",
    "        self.__name = self.fname + self.lname\n",
    " \n",
    "    def fullname(self):\n",
    "            return '{}{}'.format(self.fname,self.lname)\n",
    "        \n",
    "    def apply_raise(self):\n",
    "        self.sal=int(self.sal*1.05)"
   ]
  },
  {
   "cell_type": "code",
   "execution_count": null,
   "metadata": {},
   "outputs": [],
   "source": [
    "emp_1=employee('aayushi','johari',350000)\n",
    "emp_2=employee('test','test',100000)\n",
    "print(emp_1.email)\n",
    "print(emp_2.email)"
   ]
  },
  {
   "cell_type": "code",
   "execution_count": null,
   "metadata": {},
   "outputs": [],
   "source": [
    "print(emp_1.fullname())\n",
    "print(emp_2.fullname())"
   ]
  },
  {
   "cell_type": "code",
   "execution_count": null,
   "metadata": {},
   "outputs": [],
   "source": [
    "emp_1.apply_raise()\n",
    "print(emp_1.sal)"
   ]
  },
  {
   "cell_type": "code",
   "execution_count": null,
   "metadata": {},
   "outputs": [],
   "source": [
    "emp_1.__name"
   ]
  },
  {
   "cell_type": "markdown",
   "metadata": {},
   "source": [
    "### Attributes in a Python Class\n",
    "\n",
    "Attributes in Python defines a property of an object, element or a file. There are two types of attributes:\n",
    "\n",
    "- **Built-in Class Attributes**: There are various built-in attributes present inside Python classes. For example _dict_, _doc_, _name _, etc. Let me take the same example where I want to view all the key-value pairs of employee1. For that, you can simply write the below statement which contains the class namespace:\n",
    "print(emp_1.__dict__)\n",
    "After executing it, you will get output such as: \n",
    "\n",
    "`{‘fname’: ‘aayushi’, ‘lname’: ‘johari’, ‘sal’: 350000, ’email’: ‘aayushi.johari@company.com’}`\n",
    "\n",
    "- **Attributes defined by Users**: Attributes are created inside the class definition. We can dynamically create new attributes for existing instances of a class. Attributes can be bound to class names as well.\n",
    "\n",
    "Next, we have public, protected and private attributes.\n",
    "\n",
    "|Naming|\tType\t|Meaning|\n",
    "|--------|-----------|--------|\n",
    "|**Name**|\tPublic|\tThese attributes can be freely used inside or outside of a class definition|\n",
    "|**`_name`**|\tProtected|\tProtected attributes should not be used outside of the class definition, unless inside of a subclass definition|\n",
    "|**`__name`**\t|Private|\tThis kind of attribute is inaccessible and invisible. It’s neither possible to read nor to write  those attributes, except inside of the class definition itself|"
   ]
  },
  {
   "cell_type": "markdown",
   "metadata": {},
   "source": [
    "### Deleting Attributes and Objects\n",
    "\n",
    "Any attribute of an object can be deleted anytime, using the `del` statement."
   ]
  },
  {
   "cell_type": "code",
   "execution_count": null,
   "metadata": {},
   "outputs": [],
   "source": [
    "c1 = ComplexNumber(2,3)\n",
    "del c1.imag\n",
    "c1.getData()"
   ]
  },
  {
   "cell_type": "code",
   "execution_count": null,
   "metadata": {},
   "outputs": [],
   "source": [
    "del ComplexNumber.getData\n",
    "c1.getData()"
   ]
  },
  {
   "cell_type": "markdown",
   "metadata": {},
   "source": [
    "## Magic Methods \n",
    "\n",
    "They're `special methods` that you can define to add `magic` to your classes. They're always surrounded by double underscores and are also known as `dunder` methods.\n",
    "\n",
    "Examples:\n",
    "\n",
    "### Construction and Initialization\n",
    "\n",
    "1. `__new__(cls, [...)`\n",
    "**`__new__`** is the first method to get called in an object's instantiation.\n",
    "\n",
    "2. `__init__(self, [...)`\n",
    "**`__init__(self, [...)`** The initializer for the class.\n",
    "\n",
    "3. `__del__`\n",
    "This is a destructor. It defines behavior for when an object is `garbage collected`. It can be quite useful for objects that might require extra cleanup upon deletion, like sockets or file objects. <strong> __del__ should almost never be used because of the precarious circumstances under which it is called; use it with caution!\n",
    "</strong>\n"
   ]
  },
  {
   "cell_type": "markdown",
   "metadata": {},
   "source": [
    "\n",
    "### Normal arithmetic operators\n",
    "\n",
    "1. `__add__(self, other)`\n",
    "Implements addition.\n",
    "2. `__sub__(self, other)`\n",
    "Implements subtraction.\n",
    "3. `__mul__(self, other)`\n",
    "Implements multiplication.\n",
    "4. `__floordiv__(self, other)`\n",
    "Implements integer division using the // operator.\n",
    "5. `__div__(self, other)`\n",
    "Implements division using the / operator.\n",
    "6. `__truediv__(self, other)`\n",
    "Implements true division. Note that this only works when from __future__ import division is in effect.\n",
    "7. `__mod__(self, other)`\n",
    "Implements modulo using the % operator.\n",
    "8. `__divmod__(self, other)`\n",
    "Implements behavior for long division using the divmod() built in function.\n",
    "9. `__pow__`\n",
    "Implements behavior for exponents using the ** operator.\n",
    "10. `__lshift__(self, other)`\n",
    "Implements left bitwise shift using the << operator.\n",
    "11. `__rshift__(self, other)`\n",
    "Implements right bitwise shift using the >> operator.\n",
    "12. `__and__(self, other)`\n",
    "Implements bitwise and using the & operator.\n",
    "13. `__or__(self, other)`\n",
    "Implements bitwise or using the | operator.\n",
    "14. `__xor__(self, other)`\n",
    "Implements bitwise xor using the ^ operator.\n",
    "Reflected arithmetic operators\n"
   ]
  },
  {
   "cell_type": "markdown",
   "metadata": {},
   "source": [
    "\n",
    "### Reflected arithmetic operators\n",
    "\n",
    "1. `__radd__(self, other)`\n",
    "Implements reflected addition.\n",
    "2. `__rsub__(self, other)`\n",
    "Implements reflected subtraction.\n",
    "3. `__rmul__(self, other)`\n",
    "Implements reflected multiplication.\n",
    "4. `__rfloordiv__(self, other)`\n",
    "Implements reflected integer division using the // operator.\n",
    "5. `__rdiv__(self, other)`\n",
    "Implements reflected division using the / operator.\n",
    "6. `__rtruediv__(self, other)`\n",
    "Implements reflected true division. Note that this only works when from __future__ import division is in effect.\n",
    "7. `__rmod__(self, other)`\n",
    "Implements reflected modulo using the % operator.\n",
    "8. `__rdivmod__(self, other)`\n",
    "Implements behavior for long division using the divmod() built in function, when divmod(other, self) is called.\n",
    "9. `__rpow__`\n",
    "Implements behavior for reflected exponents using the ** operator.\n",
    "10. `__rlshift__(self, other)`\n",
    "Implements reflected left bitwise shift using the << operator.\n",
    "11. `__rrshift__(self, other)`\n",
    "Implements reflected right bitwise shift using the >> operator.\n",
    "12. `__rand__(self, other)`\n",
    "Implements reflected bitwise and using the & operator.\n",
    "13. `__ror__(self, other)`\n",
    "Implements reflected bitwise or using the | operator.\n",
    "14. `__rxor__(self, other)`\n",
    "Implements reflected bitwise xor using the ^ operator.\n"
   ]
  },
  {
   "cell_type": "markdown",
   "metadata": {},
   "source": [
    "\n",
    "### Comparison magic methods\n",
    "1. `__eq__(self, other)`\n",
    "Defines behavior for the equality operator, ==.\n",
    "\n",
    "2. `__ne__(self, other)`\n",
    "Defines behavior for the inequality operator, !=.\n",
    "\n",
    "3. `__lt__(self, other)`\n",
    "Defines behavior for the less-than operator, <.\n",
    "\n",
    "4. `__gt__(self, other)`\n",
    "Defines behavior for the greater-than operator, >.\n",
    "\n",
    "5. `__le__(self, other)`\n",
    "Defines behavior for the less-than-or-equal-to operator, <=.\n",
    "\n",
    "6. `__ge__(self, other)`\n",
    "Defines behavior for the greater-than-or-equal-to operator, >=.\n",
    "\n",
    "and some more..."
   ]
  },
  {
   "cell_type": "markdown",
   "metadata": {},
   "source": [
    "### Type conversion magic methods\n",
    "\n",
    "### Augmented assignment\n",
    "\n",
    "### Representing your Classes\n",
    "\n",
    "### Controlling Attribute Access\n",
    "\n",
    "### Making Custom Sequences\n",
    "\n",
    "### Reflection\n",
    "\n",
    "### Callable Objects\n",
    "\n",
    "### Context Manager"
   ]
  },
  {
   "cell_type": "markdown",
   "metadata": {},
   "source": [
    "## References:\n",
    "    \n",
    "1. [Magic Methods](https://rszalski.github.io/magicmethods/#construction)"
   ]
  }
 ],
 "metadata": {
  "kernelspec": {
   "display_name": "Python 3",
   "language": "python",
   "name": "python3"
  },
  "language_info": {
   "codemirror_mode": {
    "name": "ipython",
    "version": 3
   },
   "file_extension": ".py",
   "mimetype": "text/x-python",
   "name": "python",
   "nbconvert_exporter": "python",
   "pygments_lexer": "ipython3",
   "version": "3.6.8"
  }
 },
 "nbformat": 4,
 "nbformat_minor": 2
}
