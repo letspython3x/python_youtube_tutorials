{
 "cells": [
  {
   "cell_type": "markdown",
   "metadata": {},
   "source": [
    "# Loops !!! (Part - 1)\n",
    "## For Loops\n",
    "<center><img src=\"../images/for_loop.jpg\" style=\"width:500px;height:450px;\"/>\n"
   ]
  },
  {
   "cell_type": "markdown",
   "metadata": {},
   "source": [
    "## The ```for``` loop\n",
    "\n",
    "\n",
    "```\n",
    "for LOOP_VARIABLE in SEQUENCE:\n",
    "    STATEMENTS\n",
    "```\n",
    "\n",
    "**N.B.:** Anything which is an ```iterator``` is a sequence. Any object which has __iter__ or __next__ methods as its attribute is an iterator."
   ]
  },
  {
   "cell_type": "markdown",
   "metadata": {},
   "source": [
    "<p style=\"color:#BB0000;font-size:20px;\">But how do you know if an object has dunder __iter__ or __next__  method ? </p>"
   ]
  },
  {
   "cell_type": "code",
   "execution_count": 1,
   "metadata": {},
   "outputs": [
    {
     "data": {
      "text/plain": [
       "['__add__',\n",
       " '__class__',\n",
       " '__contains__',\n",
       " '__delattr__',\n",
       " '__delitem__',\n",
       " '__dir__',\n",
       " '__doc__',\n",
       " '__eq__',\n",
       " '__format__',\n",
       " '__ge__',\n",
       " '__getattribute__',\n",
       " '__getitem__',\n",
       " '__gt__',\n",
       " '__hash__',\n",
       " '__iadd__',\n",
       " '__imul__',\n",
       " '__init__',\n",
       " '__init_subclass__',\n",
       " '__iter__',\n",
       " '__le__',\n",
       " '__len__',\n",
       " '__lt__',\n",
       " '__mul__',\n",
       " '__ne__',\n",
       " '__new__',\n",
       " '__reduce__',\n",
       " '__reduce_ex__',\n",
       " '__repr__',\n",
       " '__reversed__',\n",
       " '__rmul__',\n",
       " '__setattr__',\n",
       " '__setitem__',\n",
       " '__sizeof__',\n",
       " '__str__',\n",
       " '__subclasshook__',\n",
       " 'append',\n",
       " 'clear',\n",
       " 'copy',\n",
       " 'count',\n",
       " 'extend',\n",
       " 'index',\n",
       " 'insert',\n",
       " 'pop',\n",
       " 'remove',\n",
       " 'reverse',\n",
       " 'sort']"
      ]
     },
     "execution_count": 1,
     "metadata": {},
     "output_type": "execute_result"
    }
   ],
   "source": [
    "s = ['hi','hello']\n",
    "\n",
    "dir(s)\n",
    "\n",
    "# The dir() method tries to return a list of valid attributes of the object."
   ]
  },
  {
   "cell_type": "markdown",
   "metadata": {},
   "source": [
    "<p><br></p>\n",
    "<p style=\"color:#BB0000;font-size:20px;\">Activity : Can we filter out ```even numbers``` from a list of numbers</p>\n",
    "<p><br></p>"
   ]
  },
  {
   "cell_type": "code",
   "execution_count": 2,
   "metadata": {},
   "outputs": [
    {
     "name": "stdout",
     "output_type": "stream",
     "text": [
      "20\n",
      "88\n",
      "32\n"
     ]
    }
   ],
   "source": [
    "mylist = [141, 20, 31, 345, 88, 33, 32, 19]\n",
    "\n",
    "for item in mylist:\n",
    "    if item % 2 == 0:        \n",
    "        print(item)"
   ]
  },
  {
   "cell_type": "markdown",
   "metadata": {},
   "source": [
    "<p><br></p>\n",
    "<p style=\"color:#BB0000;font-size:20px;\">Activity : Can we get numbers at ```even indexes``` of a list ?</p>\n",
    "<p><br></p>"
   ]
  },
  {
   "cell_type": "code",
   "execution_count": 3,
   "metadata": {},
   "outputs": [
    {
     "data": {
      "text/plain": [
       "[141, 31, 88, 32]"
      ]
     },
     "execution_count": 3,
     "metadata": {},
     "output_type": "execute_result"
    }
   ],
   "source": [
    "list_num = [141, 20, 31, 345, 88, 33, 32, 19]\n",
    "even_list_num = []\n",
    "\n",
    "for index, item in enumerate(list_num):\n",
    "    if index %2 == 0:\n",
    "        even_list_num.append(item)\n",
    "\n",
    "even_list_num"
   ]
  },
  {
   "cell_type": "markdown",
   "metadata": {},
   "source": [
    "<p style=\"color:#BB0000;font-size:20px;\">Loop over a dictionary</p>"
   ]
  },
  {
   "cell_type": "code",
   "execution_count": 4,
   "metadata": {},
   "outputs": [
    {
     "name": "stdout",
     "output_type": "stream",
     "text": [
      "Fahim belongs to  Pakistan\n",
      "Vedon belongs to  China\n",
      "Bill belongs to  USA\n"
     ]
    }
   ],
   "source": [
    "mydata = {\n",
    "    \"Fahim\":\"Pakistan\",\n",
    "    \"Vedon\":\"China\",\n",
    "    \"Bill\":\"USA\"\n",
    "}  \n",
    "\n",
    "for user, country in mydata.items():\n",
    "    print (user, \"belongs to \" ,country)"
   ]
  },
  {
   "cell_type": "markdown",
   "metadata": {},
   "source": [
    "<p style=\"color:#BB0000;font-size:20px;\">Loop over a string</p>"
   ]
  },
  {
   "cell_type": "code",
   "execution_count": 5,
   "metadata": {},
   "outputs": [
    {
     "name": "stdout",
     "output_type": "stream",
     "text": [
      "A\n",
      "b\n",
      "h\n",
      "i\n",
      "s\n",
      "h\n",
      "a\n",
      "k\n",
      "e\n",
      " \n",
      "G\n",
      "u\n",
      "p\n",
      "t\n",
      "a\n"
     ]
    }
   ],
   "source": [
    "myString = \"Abhishake Gupta\"\n",
    "for char in myString:\n",
    "    print(char)"
   ]
  },
  {
   "cell_type": "markdown",
   "metadata": {},
   "source": [
    "<p><br></p>\n",
    "<p style=\"color:#BB0000;font-size:30px;\">Mind Boggling Question</p>\n",
    "<p><br></p>"
   ]
  },
  {
   "cell_type": "code",
   "execution_count": 6,
   "metadata": {},
   "outputs": [
    {
     "name": "stdout",
     "output_type": "stream",
     "text": [
      "1.0 Maybe\n"
     ]
    }
   ],
   "source": [
    "# Is below dictionary correct ?\n",
    "mydict  = {\n",
    "    1.0:'Yes',\n",
    "    1:'No',\n",
    "    True:'Maybe'\n",
    "}\n",
    "\n",
    "for key in mydict:        \n",
    "    print(key, mydict[key])"
   ]
  },
  {
   "cell_type": "markdown",
   "metadata": {},
   "source": [
    "### Reason : Hash Collisions\n",
    "\n",
    "```hash(1.0) = hash(1) = hash(True) = 1 ```\n",
    "<p> <br> </p>"
   ]
  },
  {
   "cell_type": "markdown",
   "metadata": {},
   "source": [
    "<p><br><br></p>\n",
    "<center style=\"color:#3B3B30;font-size:35px;\">Thank you for being an active listener.</center>\n",
    "<p><br></p>"
   ]
  }
 ],
 "metadata": {
  "kernelspec": {
   "display_name": "Python 3",
   "language": "python",
   "name": "python3"
  },
  "language_info": {
   "codemirror_mode": {
    "name": "ipython",
    "version": 3
   },
   "file_extension": ".py",
   "mimetype": "text/x-python",
   "name": "python",
   "nbconvert_exporter": "python",
   "pygments_lexer": "ipython3",
   "version": "3.6.8"
  }
 },
 "nbformat": 4,
 "nbformat_minor": 2
}
