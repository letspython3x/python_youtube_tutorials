{
 "cells": [
  {
   "cell_type": "markdown",
   "metadata": {},
   "source": [
    "# Loops !!! (Part - 1)\n",
    "## For Loops\n",
    "<center><img src=\"../images/for_loop.jpg\" style=\"width:500px;height:450px;\"/>\n"
   ]
  },
  {
   "cell_type": "markdown",
   "metadata": {},
   "source": [
    "## The ```for``` loop\n",
    "\n",
    "\n",
    "```\n",
    "for LOOP_VARIABLE in SEQUENCE:\n",
    "    STATEMENTS\n",
    "```\n",
    "\n",
    "**N.B.:** Anything which is an ```iterator``` is a sequence. Any object which has __iter__ or __next__ methods as its attribute is an iterator."
   ]
  },
  {
   "cell_type": "markdown",
   "metadata": {},
   "source": [
    "<p style=\"color:#BB0000;font-size:20px;\">But how do you know if an object has dunder __iter__ or __next__  method ? </p>"
   ]
  },
  {
   "cell_type": "code",
   "execution_count": null,
   "metadata": {},
   "outputs": [],
   "source": [
    "s = ['hi','hello']\n",
    "\n",
    "dir(s)\n",
    "\n",
    "# The dir() method tries to return a list of valid attributes of the object."
   ]
  },
  {
   "cell_type": "markdown",
   "metadata": {},
   "source": [
    "<p><br></p>\n",
    "<p style=\"color:#BB0000;font-size:20px;\">Activity : Can we filter out ```even numbers``` from a list of numbers</p>\n",
    "<p><br></p>"
   ]
  },
  {
   "cell_type": "code",
   "execution_count": null,
   "metadata": {},
   "outputs": [],
   "source": [
    "mylist = [141, 20, 31, 345, 88, 33, 32, 19]\n",
    "\n",
    "for item in mylist:\n",
    "    if item % 2 == 0:        \n",
    "        print(item)"
   ]
  },
  {
   "cell_type": "markdown",
   "metadata": {},
   "source": [
    "<p><br></p>\n",
    "<p style=\"color:#BB0000;font-size:20px;\">Activity : Can we get numbers at ```even indexes``` of a list ?</p>\n",
    "<p><br></p>"
   ]
  },
  {
   "cell_type": "code",
   "execution_count": null,
   "metadata": {},
   "outputs": [],
   "source": [
    "list_num = [141, 20, 31, 345, 88, 33, 32, 19]\n",
    "even_list_num = []\n",
    "\n",
    "for index, item in enumerate(list_num):\n",
    "    if index %2 == 0:\n",
    "        even_list_num.append(item)\n",
    "\n",
    "even_list_num"
   ]
  },
  {
   "cell_type": "markdown",
   "metadata": {},
   "source": [
    "<p style=\"color:#BB0000;font-size:20px;\">Loop over a dictionary</p>"
   ]
  },
  {
   "cell_type": "code",
   "execution_count": null,
   "metadata": {},
   "outputs": [],
   "source": [
    "mydata = {\n",
    "    \"Fahim\":\"Pakistan\",\n",
    "    \"Vedon\":\"China\",\n",
    "    \"Bill\":\"USA\"\n",
    "}  \n",
    "\n",
    "for user, country in mydata.items():\n",
    "    print (user, \"belongs to \" ,country)"
   ]
  },
  {
   "cell_type": "markdown",
   "metadata": {},
   "source": [
    "<p style=\"color:#BB0000;font-size:20px;\">Loop over a string</p>"
   ]
  },
  {
   "cell_type": "code",
   "execution_count": null,
   "metadata": {},
   "outputs": [],
   "source": [
    "myString = \"Abhishake Gupta\"\n",
    "for char in myString:\n",
    "    print(char)"
   ]
  },
  {
   "cell_type": "markdown",
   "metadata": {},
   "source": [
    "<p><br></p>\n",
    "<p style=\"color:#BB0000;font-size:30px;\">Mind Boggling Question</p>\n",
    "<p><br></p>"
   ]
  },
  {
   "cell_type": "code",
   "execution_count": null,
   "metadata": {},
   "outputs": [],
   "source": [
    "# Is below dictionary correct ?\n",
    "mydict  = {\n",
    "    1.0:'Yes',\n",
    "    1:'No',\n",
    "    True:'Maybe'\n",
    "}\n",
    "\n",
    "for key in mydict:        \n",
    "    print(key, mydict[key])"
   ]
  },
  {
   "cell_type": "markdown",
   "metadata": {},
   "source": [
    "### Reason : Hash Collisions\n",
    "\n",
    "```hash(1.0) = hash(1) = hash(True) = 1 ```\n",
    "<p> <br> </p>"
   ]
  },
  {
   "cell_type": "markdown",
   "metadata": {},
   "source": [
    "<p><br><br></p>\n",
    "<center style=\"color:#3B3B30;font-size:35px;\">Thank you for being an active listener.</center>\n",
    "<p><br></p>"
   ]
  }
 ],
 "metadata": {
  "kernelspec": {
   "display_name": "Python 3",
   "language": "python",
   "name": "python3"
  },
  "language_info": {
   "codemirror_mode": {
    "name": "ipython",
    "version": 3
   },
   "file_extension": ".py",
   "mimetype": "text/x-python",
   "name": "python",
   "nbconvert_exporter": "python",
   "pygments_lexer": "ipython3",
   "version": "3.6.8"
  }
 },
 "nbformat": 4,
 "nbformat_minor": 2
}
