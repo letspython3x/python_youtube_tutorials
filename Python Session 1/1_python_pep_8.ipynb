{
 "cells": [
  {
   "cell_type": "markdown",
   "metadata": {},
   "source": [
    "<center><h1 style=font-size:40px>Python & PEP-8 &#128013;</h1></center>"
   ]
  },
  {
   "cell_type": "markdown",
   "metadata": {},
   "source": [
    "Python is a popular general purpose programming language. It was created by ```Guido van Rossum```, and released in 1991.\n",
    "Python works on different platforms (Windows, Mac, Linux, Raspberry Pi, etc) and has a simple syntax similar to the English language. \n",
    "- Python has syntax that allows developers to write programs with fewer lines than some other programming languages.\n",
    "- Python runs on an interpreter system, meaning that code can be executed as soon as it is written. This means that prototyping can be very quick.\n",
    "\n",
    "```Python can be treated in a procedural way, an object-orientated way or a functional way.```\n",
    "\n",
    "\n",
    "\n",
    "It can be used for:\n",
    "\n",
    "- Web Development (server-side)\n",
    "- Software development\n",
    "- Mathematics, Data Science\n",
    "- System Scripting.\n",
    "- ML and AI"
   ]
  },
  {
   "cell_type": "markdown",
   "metadata": {},
   "source": [
    "<p><br></p>\n",
    "<p style=\"color:#BB0000;font-size:30px;\">Mind Boggling Question</p>\n",
    "<p style=\"color:#555500;font-size:20px;\"><br>Is python an interpreted language or a compiled language ???</p>\n",
    "<p><br></p>"
   ]
  },
  {
   "cell_type": "markdown",
   "metadata": {},
   "source": [
    "<center><h1 style=font-size:40px>Python Enhancement Proposal 8 [PEP-8]</h1></center>"
   ]
  },
  {
   "cell_type": "markdown",
   "metadata": {},
   "source": [
    "PEP stands for Python Enhancement Proposal, and there are several of them. A PEP is a document that describes new features proposed for Python and documents aspects of Python, like design and style, for the community.\n",
    "\n",
    "\n",
    "PEP-8, is a document that provides guidelines and best practices on how to write Python code. It was written in 2001 by Guido van Rossum, Barry Warsaw, and Nick Coghlan. The primary focus of PEP 8 is to improve the readability and consistency of Python code."
   ]
  },
  {
   "cell_type": "code",
   "execution_count": null,
   "metadata": {},
   "outputs": [],
   "source": [
    "import this"
   ]
  },
  {
   "cell_type": "markdown",
   "metadata": {},
   "source": [
    "<p style=\"color:#555500;font-size:30px;\"><br>Give a thought !!!</p>\n",
    "<p style=\"color:#BB0000;font-size:30px;\">Why We Need PEP 8</p>\n",
    "\n",
    "PEP 8 exists to improve the readability of Python code. ```But why is readability so important?``` Why is writing readable code one of the guiding principles of the Python language?"
   ]
  },
  {
   "cell_type": "markdown",
   "metadata": {},
   "source": [
    "```Code is read much more often than it is written``` You may spend a few minutes, or a whole day, writing a piece of code to process user authentication. Once you’ve written it, you’re never going to write it again. But you’ll definitely have to read it again."
   ]
  },
  {
   "cell_type": "markdown",
   "metadata": {},
   "source": [
    "# PEP-8 Topics\n",
    "\n",
    "- Naming Conventions\n",
    "- Code Layout\n",
    "- Indentation\n",
    "- Comments\n",
    "- Whitespace in Expressions and Statements\n",
    "- Programming Recommendations"
   ]
  },
  {
   "cell_type": "markdown",
   "metadata": {},
   "source": [
    "# Naming Conventions\n",
    "\n",
    "“Explicit is better than implicit.”\n",
    "\n",
    "When you write Python code, you have to name a lot of things: variables, functions, classes, packages, and so on. Choosing sensible names will save you time and energy later."
   ]
  },
  {
   "cell_type": "code",
   "execution_count": null,
   "metadata": {},
   "outputs": [],
   "source": [
    "O = 2  # This may look like you're trying to reassign 2 to zero"
   ]
  },
  {
   "cell_type": "markdown",
   "metadata": {},
   "source": [
    "|Type|Naming Convention|Examples|\n",
    "|------|------|------|\n",
    "|`Function`|Use a lowercase word or words. Separate words by underscores to improve readability.|function, my_function|\n",
    "|`Variable`|Use a lowercase single letter, word, or words. Separate words with underscores to improve readability.|x, var, my_variable|\n",
    "|`Class`|Start each word with a capital letter. Do not separate words with underscores. This style is called camel case.|Model, MyClass|\n",
    "|`Method`|Use a lowercase word or words. Separate words with underscores to improve readability.|class_method, method|\n",
    "|`Constant`|Use an uppercase single letter, word, or words. Separate words with underscores to improve readability.|CONSTANT, MY_CONSTANT, MY_LONG_CONSTANT|\n",
    "|`Module`|Use a short, lowercase word or words. Separate words with underscores to improve readability.|module.py, my_module.py|\n",
    "|`Package`|Use a short, lowercase word or words. Do not separate words with underscores.|package, mypackage|"
   ]
  },
  {
   "cell_type": "markdown",
   "metadata": {},
   "source": [
    "<p style=\"color:#AA0000;font-size:25px;\"> Activity 1 : Which Coding style is better for choosing variable names ?</p>"
   ]
  },
  {
   "cell_type": "code",
   "execution_count": null,
   "metadata": {},
   "outputs": [],
   "source": [
    "# 1\n",
    "x = 'Abhishake Gupta'\n",
    "y, z = x.split()\n",
    "print(z, y, sep=', ')"
   ]
  },
  {
   "cell_type": "code",
   "execution_count": null,
   "metadata": {},
   "outputs": [],
   "source": [
    "# 2\n",
    "name = 'Abhishake Gupta'\n",
    "first_name, last_name = name.split()\n",
    "print(last_name, first_name, sep=', ')"
   ]
  },
  {
   "cell_type": "markdown",
   "metadata": {},
   "source": [
    "<span style=\"color:#FF9922;font-size:14px;\"><br>#1</span> is confusing for collaborators or other team members\n",
    "<span style=\"color:#FF9922;font-size:14px;\"><br>#2 Recommended</span> A much clearer choice of names"
   ]
  },
  {
   "cell_type": "markdown",
   "metadata": {},
   "source": [
    "# Code Layout\n",
    "\n",
    "“Beautiful is better than ugly.”\n",
    "\n",
    "<span>How you lay out your code has a huge role in how readable it is.</span>\n",
    "\n",
    "<span>How to add vertical whitespace to improve the readability of your code.</span>\n",
    "\n",
    "If you use vertical whitespace carefully, it can greatly improved the readability of your code. It helps the reader visually understand how your code splits up into sections, and how those sections relate to one another."
   ]
  },
  {
   "cell_type": "code",
   "execution_count": null,
   "metadata": {},
   "outputs": [],
   "source": [
    "#1 Surround top-level functions and classes with two blank lines.\n",
    "\n",
    "class MyFirstClass:\n",
    "    pass\n",
    "\n",
    "\n",
    "class MySecondClass:\n",
    "    pass\n",
    "\n",
    "\n",
    "def top_level_function():\n",
    "    return None"
   ]
  },
  {
   "cell_type": "code",
   "execution_count": null,
   "metadata": {},
   "outputs": [],
   "source": [
    "#2 Surround method definitions inside classes with a single blank line.\n",
    "\n",
    "class MyClass:\n",
    "    def first_method(self):\n",
    "        return None\n",
    "\n",
    "    def second_method(self):\n",
    "        return None"
   ]
  },
  {
   "cell_type": "code",
   "execution_count": null,
   "metadata": {},
   "outputs": [],
   "source": [
    "#3 Use blank lines sparingly inside functions to show clear steps\n",
    "\n",
    "def calculate_variance(number_list):\n",
    "    sum_list = 0\n",
    "    for number in number_list:\n",
    "        sum_list = sum_list + number\n",
    "    mean = sum_list / len(number_list)\n",
    "\n",
    "    sum_squares = 0\n",
    "    for number in number_list:\n",
    "        sum_squares = sum_squares + number**2\n",
    "    mean_squares = sum_squares / len(number_list)\n",
    "\n",
    "    return mean_squares - mean**2"
   ]
  },
  {
   "cell_type": "markdown",
   "metadata": {},
   "source": [
    "#4 Maximum Line Length and Line Breaking\n",
    "\n",
    "PEP 8 suggests lines should be limited to 79 characters. This is because it allows you to have multiple files open next to one another, while also avoiding line wrapping."
   ]
  },
  {
   "cell_type": "code",
   "execution_count": null,
   "metadata": {},
   "outputs": [],
   "source": [
    "def function(arg_one, arg_two,\n",
    "             arg_three, arg_four):\n",
    "    return arg_one\n",
    "\n",
    "# If it is impossible to use implied continuation, then you can use backslashes to break lines instead:\n",
    "\n",
    "from mypkg import example1, \\\n",
    "    example2, example3"
   ]
  },
  {
   "cell_type": "code",
   "execution_count": null,
   "metadata": {},
   "outputs": [],
   "source": [
    "# Mathematicians agree that breaking before binary operators improves readability. Compare the following two examples.\n",
    "# Below is an example of breaking before a binary operator:\n",
    "\n",
    "total = (first_variable\n",
    "         + second_variable\n",
    "         - third_variable)"
   ]
  },
  {
   "cell_type": "markdown",
   "metadata": {},
   "source": [
    "# Indentation\n",
    "\n",
    "```There should be one—and preferably only one—obvious way to do it.```\n",
    "\n",
    "Indentation, or leading whitespace, is extremely important in Python. The indentation level of lines of code in Python determines how statements are grouped together.\n",
    "\n",
    "The key indentation rules laid out by PEP 8 are the following:\n",
    "\n",
    "- Use 4 consecutive spaces to indicate indentation.\n",
    "- Prefer spaces over tabs.\n",
    "\n",
    "You can write Python code with either tabs or spaces indicating indentation. But, if you’re using Python 3, you must be consistent with your choice. Otherwise, your code will not run. PEP 8 recommends that you always use 4 consecutive spaces to indicate indentation."
   ]
  },
  {
   "cell_type": "code",
   "execution_count": null,
   "metadata": {},
   "outputs": [],
   "source": [
    "x = 3\n",
    "if x > 5:\n",
    "    print('x is larger than 5')"
   ]
  },
  {
   "cell_type": "code",
   "execution_count": null,
   "metadata": {},
   "outputs": [],
   "source": [
    "x = 5\n",
    "if (x > 3 and\n",
    "        x < 10):\n",
    "    print(x)"
   ]
  },
  {
   "cell_type": "markdown",
   "metadata": {},
   "source": [
    "Style of indentation following a line break is a ```hanging indent```. This is a typographical term meaning that every line but the first in a paragraph or statement is indented. You can use a hanging indent to visually represent a continuation of a line of code. Here’s an example:"
   ]
  },
  {
   "cell_type": "code",
   "execution_count": null,
   "metadata": {},
   "outputs": [],
   "source": [
    "def function(\n",
    "        arg_one, arg_two,\n",
    "        arg_three, arg_four):\n",
    "    return arg_one"
   ]
  },
  {
   "cell_type": "code",
   "execution_count": null,
   "metadata": {},
   "outputs": [],
   "source": [
    "# Where to Put the Closing Brace (preferable below)\n",
    "list_of_numbers = [\n",
    "    1, 2, 3,\n",
    "    4, 5, 6,\n",
    "    7, 8, 9\n",
    "]"
   ]
  },
  {
   "cell_type": "markdown",
   "metadata": {},
   "source": [
    "# Comments\n",
    "\n",
    "```If the implementation is hard to explain, it’s a bad idea.```\n",
    "\n",
    "### Here are some key points to remember when adding comments to your code:\n",
    "\n",
    "- Limit the line length of comments and docstrings to 72 characters.\n",
    "- Use complete sentences, starting with a capital letter.\n",
    "- Make sure to update comments if you change your code."
   ]
  },
  {
   "cell_type": "code",
   "execution_count": null,
   "metadata": {},
   "outputs": [],
   "source": [
    "# Block Comments\n",
    "\n",
    "def quadratic(a, b, c, x):\n",
    "    \"\"\"\n",
    "    Calculate the solution to a quadratic equation using the quadratic formula.\n",
    "    There are always two solutions to a quadratic equation, x_1 and x_2.\n",
    "    \"\"\"\n",
    "    x_1 = (- b+(b**2-4*a*c)**(1/2)) / (2*a)\n",
    "    x_2 = (- b-(b**2-4*a*c)**(1/2)) / (2*a)\n",
    "    return x_1, x_2"
   ]
  },
  {
   "cell_type": "code",
   "execution_count": null,
   "metadata": {},
   "outputs": [],
   "source": [
    "# Inline Comments\n",
    "\n",
    "x = 5  # This is an inline comment\n",
    "\n",
    "# Sometimes, inline comments can seem necessary, but you can use better\n",
    "# naming conventions instead. Here’s an example:\n",
    "\n",
    "x = 'John Smith'  # Student Name\n",
    "student_name = 'John Smith'"
   ]
  },
  {
   "cell_type": "markdown",
   "metadata": {},
   "source": [
    "# Whitespace in Expressions and Statements\n",
    "\n",
    "```Sparse is better than dense.```\n",
    "\n",
    "Whitespace can be very helpful in expressions and statements when used properly. If there is not enough whitespace, then code can be difficult to read, as it’s all bunched together. If there’s too much whitespace, then it can be difficult to visually combine related terms in a statement.\n",
    "\n",
    "## Whitespace Around Binary Operators\n",
    "Surround the following binary operators with a single space on either side:\n",
    "\n",
    "- Assignment operators (=, +=, -=, and so forth)\n",
    "- Comparisons (==, !=, >, <. >=, <=) and (is, is not, in, not in)\n",
    "- Booleans (and, not, or)\n",
    "\n"
   ]
  },
  {
   "cell_type": "code",
   "execution_count": null,
   "metadata": {},
   "outputs": [],
   "source": [
    "# Recommended\n",
    "y = x**2 + 5\n",
    "z = (x+y) * (x-y)\n",
    "\n",
    "# Not Recommended\n",
    "y = x ** 2 + 5\n",
    "z = (x + y) * (x - y)"
   ]
  },
  {
   "cell_type": "code",
   "execution_count": null,
   "metadata": {},
   "outputs": [],
   "source": [
    "# Not recommended\n",
    "if x > 5 and x % 2 == 0:\n",
    "    print('x is larger than 5 and divisible by 2!')\n",
    "\n",
    "# Recommended\n",
    "if x>5 and x%2==0:\n",
    "    print('x is larger than 5 and divisible by 2!')"
   ]
  },
  {
   "cell_type": "markdown",
   "metadata": {},
   "source": [
    "## Exception case\n",
    "\n",
    "When `=` is used to assign a default value to a function argument, `do not surround it with spaces.`"
   ]
  },
  {
   "cell_type": "code",
   "execution_count": null,
   "metadata": {},
   "outputs": [],
   "source": [
    "# Recommended\n",
    "\n",
    "def function(default_parameter=5):\n",
    "    # ...\n",
    "\n",
    "\n",
    "# Not recommended\n",
    "\n",
    "def function(default_parameter = 5):\n",
    "    # ..."
   ]
  },
  {
   "cell_type": "markdown",
   "metadata": {},
   "source": [
    "# Programming Recommendations\n",
    "\n",
    "```Simple is better than complex.```"
   ]
  },
  {
   "cell_type": "code",
   "execution_count": null,
   "metadata": {},
   "outputs": [],
   "source": [
    "# Don’t compare boolean values to True or False using the equivalence operator\n",
    "\n",
    "# Not recommended\n",
    "my_bool = 6 > 5\n",
    "if my_bool == True:\n",
    "    return '6 is bigger than 5'\n",
    "\n",
    "# Recommended\n",
    "if my_bool:\n",
    "    return '6 is bigger than 5'\n",
    "\n",
    "# OR\n",
    "# Recommended\n",
    "if my_bool is True:\n",
    "    return '6 is bigger than 5'"
   ]
  },
  {
   "cell_type": "code",
   "execution_count": null,
   "metadata": {},
   "outputs": [],
   "source": [
    "# Use the fact that empty sequences are falsy in if statements.\n",
    "\n",
    "# Not recommended\n",
    "my_list = []\n",
    "if not len(my_list):\n",
    "    print('List is empty!')\n",
    "\n",
    "# However, in Python any empty list, string, or tuple is falsy. \n",
    "# We can therefore come up with a simpler alternative to the above:\n",
    "\n",
    "# Recommended\n",
    "my_list = []\n",
    "if not my_list:\n",
    "    print('List is empty!')"
   ]
  },
  {
   "cell_type": "markdown",
   "metadata": {},
   "source": [
    "### Use `is not` rather than `not` ... `is` in `if` statements."
   ]
  },
  {
   "cell_type": "code",
   "execution_count": null,
   "metadata": {},
   "outputs": [],
   "source": [
    "# Recommended\n",
    "if x is not None:\n",
    "    print('x exists!')\n",
    "\n",
    "# Not recommended\n",
    "if not x is None:\n",
    "    print('x exists!')"
   ]
  },
  {
   "cell_type": "markdown",
   "metadata": {},
   "source": [
    "### Don’t use `if x:` when you mean if `x` is `not None`:\n",
    "Sometimes, you may have a function with arguments that are `None` by `default`. A common mistake when checking if such an argument, `arg`, has been given a different value is to use:"
   ]
  },
  {
   "cell_type": "code",
   "execution_count": null,
   "metadata": {},
   "outputs": [],
   "source": [
    "# Not Recommended\n",
    "if arg:\n",
    "    # Do something with arg...\n",
    "\n",
    "# Recommended\n",
    "if arg is not None:\n",
    "    # Do something with arg..."
   ]
  },
  {
   "cell_type": "markdown",
   "metadata": {},
   "source": [
    "### Use `.startswith()` and `.endswith()` instead of slicing. \n",
    "If you were trying to check if a string word was prefixed, or suffixed, with the word cat, it might seem sensible to use list slicing. However, list slicing is prone to error, and you have to hardcode the number of characters in the prefix or suffix. It is also not clear to someone less familiar with Python list slicing what you are trying to achieve:\n",
    "\n",
    "Similarly, the same principle applies when you’re checking for suffixes. The example below outlines how you might check whether a string ends in jpg:\n"
   ]
  },
  {
   "cell_type": "code",
   "execution_count": null,
   "metadata": {},
   "outputs": [],
   "source": [
    "word = \"cat has 4 legs\"\n",
    "# Not recommended\n",
    "if word[:3] == 'cat':\n",
    "    print('The word starts with \"cat\"')\n",
    "\n",
    "# Recommended\n",
    "if word.startswith('cat'):\n",
    "    print('The word starts with \"cat\"')"
   ]
  },
  {
   "cell_type": "markdown",
   "metadata": {},
   "source": [
    "<p><br></p>\n",
    "<p style=\"color:#BB0000;font-size:30px;\">Mind Boggling Question</p>\n",
    "<p style=\"color:#555500;font-size:20px;\"><br>When to Ignore PEP 8 ???</p>\n",
    "<p><br></p>"
   ]
  },
  {
   "cell_type": "markdown",
   "metadata": {},
   "source": [
    "\n",
    "<p style=\"color:#FF9922;font-size:30px;\"><br>NEVER !!!</p>\n",
    "\n",
    "Scripts or Projects that follow standards guarantees the code is `clean`, `professional` and `readable`. This will benefit you as well as collaborators and potential employers.\n",
    "\n",
    "However, some guidelines in PEP 8 are inconvenient in the following instances:\n",
    "\n",
    "- If complying with PEP 8 would break compatibility with existing software\n",
    "- If code surrounding what you’re working on is inconsistent with PEP 8\n",
    "- If code needs to remain compatible with older versions of Python"
   ]
  },
  {
   "cell_type": "markdown",
   "metadata": {},
   "source": [
    "REFERENCES:\n",
    "\n",
    "1. https://www.python.org/dev/peps/pep-0008/\n",
    "2. https://realpython.com/python-pep8/"
   ]
  }
 ],
 "metadata": {
  "kernelspec": {
   "display_name": "Python 3",
   "language": "python",
   "name": "python3"
  },
  "language_info": {
   "codemirror_mode": {
    "name": "ipython",
    "version": 3
   },
   "file_extension": ".py",
   "mimetype": "text/x-python",
   "name": "python",
   "nbconvert_exporter": "python",
   "pygments_lexer": "ipython3",
   "version": "3.6.8"
  }
 },
 "nbformat": 4,
 "nbformat_minor": 2
}
