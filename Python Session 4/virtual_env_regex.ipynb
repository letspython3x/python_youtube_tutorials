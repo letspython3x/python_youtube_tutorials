{
 "cells": [
  {
   "cell_type": "markdown",
   "metadata": {
    "slideshow": {
     "slide_type": "slide"
    }
   },
   "source": [
    "<center><img src=\"images/logo_python.png\" style=\"width:400px;height:400px;\"/>\n",
    "<h1 style=font-size:40px>Virtual Environment & Regex in Python &#128013;</h1></center><br>"
   ]
  },
  {
   "cell_type": "markdown",
   "metadata": {
    "slideshow": {
     "slide_type": "slide"
    }
   },
   "source": [
    "# Virtual Environment !!!\n",
    "<center><img src=\"images/virtual_environment.png\" alt=\"Python Virtual Environment\" style=\"width:800px;height:400px;\" />\n",
    "<br>"
   ]
  },
  {
   "cell_type": "markdown",
   "metadata": {},
   "source": [
    "### Scenario\n",
    "<p style=\"color:#AA0000;font-size:15px;\"><br>Let's say we have two projects: _ProjectA_ and _ProjectB_ and both depends on _ProjectC_. What if the both projects require different versions of _ProjectC_.\n",
    "<br> **Maybe ProjectA needs v1.0.0, while ProjectB requires the newer v2.0.0**\n",
    "</p>\n",
    "\n",
    "\n",
    "### Solution\n",
    "<p style=\"color:#00AA00;font-size:15px;\">Just create a separate virtual environment for both ProjectA and ProjectB, and later install the specific versions of _ProjectC_.</p>\n"
   ]
  },
  {
   "cell_type": "markdown",
   "metadata": {},
   "source": [
    "\n",
    "## Python Virtual Environment !!!\n",
    "<center><img src=\"images/python_virtualenv.png\" alt=\"Python Virtual Environment\" style=\"width:400px;height:300px;\" />    \n",
    "<p style=\"color:#005500;font-size:16px;\"><br>The main purpose of ```Python virtual environments``` is to create an **isolated environment** for Python projects. This means that each project can have its own dependencies, regardless of what dependencies every other project has. </p>"
   ]
  },
  {
   "cell_type": "markdown",
   "metadata": {
    "slideshow": {
     "slide_type": "slide"
    }
   },
   "source": [
    "<br><center style=\"color:#AAAA00;font-size:25px;\">Let's create a Python Virtual Environment on system</p> <br>"
   ]
  },
  {
   "cell_type": "markdown",
   "metadata": {
    "slideshow": {
     "slide_type": "-"
    }
   },
   "source": [
    "### Installing virtualenv library\n",
    "\n",
    "<p style=\"color:#AAAA00;font-size:25px;\">Commands</p>\n",
    "\n",
    "```pip2 install virtualenv```<br>\n",
    "```pip3 install virtualenv```\n",
    "\n",
    "### verify installation\n",
    "\n",
    "* import virtualenv\n",
    "* dir(virtualenv)\n",
    "* virtualenv.virtualenv_version\n",
    "\n",
    "<p style=\"color:#AAAA00;font-size:20px;\"> ShortCuts to verify Installation\n",
    "\n",
    "```python2``` -c \"import virtualenv; print(virtualenv.virtualenv_version)\" <br>\n",
    "```python3``` -c \"import virtualenv; print(virtualenv.virtualenv_version)\""
   ]
  },
  {
   "cell_type": "markdown",
   "metadata": {},
   "source": [
    "\n",
    "## Create a virtual environment\n",
    "```python2 -m venv /path/to/desired/dir```<br>\n",
    "```python3 -m venv /path/to/desired/dir```"
   ]
  },
  {
   "cell_type": "markdown",
   "metadata": {},
   "source": [
    "## Run these commands to know which Python you have.\n",
    "\n",
    "<ul>\n",
    "<li> which python </li>\n",
    "<li> which python2 </li>\n",
    "<li> which python3 </li>\n",
    "</ul>"
   ]
  },
  {
   "cell_type": "markdown",
   "metadata": {},
   "source": [
    "## Hands-ON : Using a Virtual Environment\n",
    "\n",
    "* ```$```cd ~ \n",
    "* ```$```pwd\n",
    "* ```$``` which python\n",
    "* ```$```python2 -m virtualenv venv_1\n",
    "* ```$```ls <br>\n",
    "    **A folder should appear with name as venv_1**\n",
    "* ```$```cd venv_1\n",
    "* ```$```ls\n",
    "* ```$```which python <br>\n",
    "    **It should be the default python**\n",
    "\n",
    "* ```$```source ~/venv_1/bin/activate\n",
    "* ```(venv_1)$```which python <br>\n",
    "    **python interpreter updated**\n",
    "* ```$``` which pip\n",
    "  "
   ]
  },
  {
   "cell_type": "markdown",
   "metadata": {},
   "source": [
    "<br>\n",
    "<center style=\"color:#BB0000;font-size:30px;\">Mind Boggling Question </center>\n",
    "<br><center style=\"color:#6666BB;font-size:20px;\">What exactly does it mean to “activate” an environment ?</center>\n",
    " <br><center style=\"color:#6666BB;font-size:20px;\">How Does a Virtual Environment Work? </center>"
   ]
  },
  {
   "cell_type": "markdown",
   "metadata": {},
   "source": [
    "### Description\n",
    "\n",
    "* Third-Party libraries are installed at ```site-packages```; check by ```sys.path``` on python terminal.\n",
    "\n",
    "Every project on your system will use these same directories to store and retrieve site packages (third party libraries). And this is the real problem for Python since **it cannot differentiate between versions in the site-packages directory**. So both versions v1.0.0 and v2.0.0 of _ProjectC_ would reside in the same directory with the same name.\n",
    "<p style=\"color:#0000BB;font-size:20px;\">This is where virtual environments and the virtualenv/venv tools come into play…</p>\n",
    "\n",
    "\n",
    "<p style=\"color:#555555;font-size:15px;\">source ~/venv_1/bin/activate\n",
    "<br>echo $PATH </p>\n",
    "<br>After activating the environment, the ```$PATH``` environment variable is slightly modified for that environment. Our virtual environment’s ```bin``` directory is now at the ```beginning of the path```\n",
    "<br>That means it’s the first directory searched when running an executable on the command line. Thus, the shell uses our virtual environment’s instance of Python instead of the system-wide version.\n",
    "<br>\n",
    "When Python is starting up, it looks at the path of its binary. In a virtual environment, it is actually just a copy of, or symlink to, your system’s Python binary. It then sets the location of sys.prefix and sys.exec_prefix based on this location, omitting the bin portion of the path.</p>"
   ]
  },
  {
   "cell_type": "markdown",
   "metadata": {},
   "source": [
    "## Virtual Environment Modules / Libraries\n",
    "\n",
    "### Standard Library\n",
    "\n",
    "1. ```virtualenv``` or ```venv``` (>python 3.3)\n",
    "2. ```pyvenv``` : wrapper over ```venv``` but deprecated in python3.6\n",
    "\n",
    "### PyPI packages not in the standard library\n",
    "1. ```virtualenv``` : (**Recommended**) virtualenv allows you to create a custom Python installation. <br> e.g. In a subdirectory of a project. Each of your projects can thus have their own python (or even several) under their respective virtualenv.<br>\n",
    "2. ```pyenv``` : A bash extension (does not work for Windows) that intercepts calls to python, pip, etc., to direct them to one of several of the system python tool-chains. pyenv allows you to install different versions of python simultaneously (either system-wide or just for the local user). <br>\n",
    "\n",
    "**N.B.**: ```pyenv-virtualenv``` : a plugin for ```pyenv```, configured to call into one of the virtualenv pythons. Python versions installed using pyenv go into its ```$(pyenv root)/versions/ ``` directory (by default, pyenv root is ~/.pyenv) so are more 'global' than virtualenv. <br>\n",
    "\n",
    "3. ```pipenv``` : (not recommended) Every release breaks something.\n",
    "4. ```virtualenvwrapper``` : Some wrapper scripts around the main ```virtualenv``` tool to manage environments.\n",
    "5. ```poetry```\n"
   ]
  },
  {
   "cell_type": "markdown",
   "metadata": {},
   "source": []
  },
  {
   "cell_type": "code",
   "execution_count": null,
   "metadata": {},
   "outputs": [],
   "source": []
  },
  {
   "cell_type": "markdown",
   "metadata": {},
   "source": [
    "<br>\n",
    "<p style=\"color:#AA0000;font-size:25px;\">Domain Specific Language (DSL) </p>\n",
    "\n",
    "* A domain-specific language is created specifically to solve problems in a particular domain and is not intended to be able to solve problems outside it (although that may be technically possible)\n",
    "\n",
    "* These languages have there own declared syntaxes and grammars, with very specific goals in design and implementation\n",
    "\n",
    "* It has specialized features for a particular domain but be applicable more broadly, or conversely may in principle be capable of broad application but in practice used primarily for a specific domain\n",
    " \n",
    "Examples:\n",
    "\n",
    "* ```HTML``` for web pages\n",
    "* ```SQL``` for Querying databases\n",
    "* ```Regular Expressions``` for matching text patterns\n",
    "    "
   ]
  },
  {
   "cell_type": "markdown",
   "metadata": {
    "slideshow": {
     "slide_type": "slide"
    }
   },
   "source": [
    "# Regex !!!\n",
    "<center><img src=\"images/regex_1.jpg\" style=\"width:600px;height:350px;\"/>"
   ]
  },
  {
   "cell_type": "markdown",
   "metadata": {},
   "source": []
  },
  {
   "cell_type": "markdown",
   "metadata": {},
   "source": []
  },
  {
   "cell_type": "code",
   "execution_count": null,
   "metadata": {},
   "outputs": [],
   "source": []
  },
  {
   "cell_type": "markdown",
   "metadata": {},
   "source": []
  },
  {
   "cell_type": "markdown",
   "metadata": {},
   "source": []
  },
  {
   "cell_type": "code",
   "execution_count": null,
   "metadata": {},
   "outputs": [],
   "source": []
  },
  {
   "cell_type": "markdown",
   "metadata": {},
   "source": []
  },
  {
   "cell_type": "code",
   "execution_count": null,
   "metadata": {},
   "outputs": [],
   "source": []
  },
  {
   "cell_type": "markdown",
   "metadata": {},
   "source": []
  },
  {
   "cell_type": "markdown",
   "metadata": {},
   "source": [
    "## match(pattern, str)\n",
    "\n",
    "\n",
    "<p> Returns a corresponding match object, if zero or more characters at the beginning of the string match the pattern <br> else ```None``` if the string does not match the given pattern</p>\n",
    " \n",
    "```re.match(pattern, string[, flags])```\n"
   ]
  },
  {
   "cell_type": "code",
   "execution_count": null,
   "metadata": {},
   "outputs": [],
   "source": []
  },
  {
   "cell_type": "code",
   "execution_count": null,
   "metadata": {},
   "outputs": [],
   "source": []
  },
  {
   "cell_type": "markdown",
   "metadata": {},
   "source": []
  },
  {
   "cell_type": "code",
   "execution_count": null,
   "metadata": {},
   "outputs": [],
   "source": []
  },
  {
   "cell_type": "markdown",
   "metadata": {},
   "source": []
  },
  {
   "cell_type": "code",
   "execution_count": null,
   "metadata": {},
   "outputs": [],
   "source": []
  },
  {
   "cell_type": "markdown",
   "metadata": {},
   "source": []
  },
  {
   "cell_type": "code",
   "execution_count": null,
   "metadata": {},
   "outputs": [],
   "source": []
  },
  {
   "cell_type": "markdown",
   "metadata": {},
   "source": []
  },
  {
   "cell_type": "code",
   "execution_count": null,
   "metadata": {},
   "outputs": [],
   "source": []
  },
  {
   "cell_type": "markdown",
   "metadata": {},
   "source": []
  },
  {
   "cell_type": "code",
   "execution_count": null,
   "metadata": {},
   "outputs": [],
   "source": []
  },
  {
   "cell_type": "markdown",
   "metadata": {},
   "source": [
    "<center style=\"color:#99BB00;font-size:30px;\">Can we improve above piece of code ?</p>"
   ]
  },
  {
   "cell_type": "code",
   "execution_count": null,
   "metadata": {},
   "outputs": [],
   "source": [
    "email_address = \"Please contact us at: abhishake.gupta@gemini.com, anurag@gemini.com\"\n",
    "\n",
    "addresses = re.findall(r'[\\w.]+@[\\w.]+', email_address)\n",
    "for address in addresses:\n",
    "    print(address)"
   ]
  },
  {
   "cell_type": "markdown",
   "metadata": {},
   "source": []
  },
  {
   "cell_type": "code",
   "execution_count": null,
   "metadata": {},
   "outputs": [],
   "source": []
  },
  {
   "cell_type": "markdown",
   "metadata": {},
   "source": []
  },
  {
   "cell_type": "code",
   "execution_count": null,
   "metadata": {},
   "outputs": [],
   "source": []
  },
  {
   "cell_type": "markdown",
   "metadata": {},
   "source": [
    "**N.B:** They are fairly close but the second feels more natural and simpler when used repeatedly."
   ]
  },
  {
   "cell_type": "markdown",
   "metadata": {},
   "source": []
  },
  {
   "cell_type": "markdown",
   "metadata": {},
   "source": []
  },
  {
   "cell_type": "code",
   "execution_count": null,
   "metadata": {},
   "outputs": [],
   "source": []
  },
  {
   "cell_type": "markdown",
   "metadata": {},
   "source": []
  },
  {
   "cell_type": "code",
   "execution_count": null,
   "metadata": {},
   "outputs": [],
   "source": []
  },
  {
   "cell_type": "code",
   "execution_count": null,
   "metadata": {},
   "outputs": [],
   "source": []
  },
  {
   "cell_type": "code",
   "execution_count": null,
   "metadata": {},
   "outputs": [],
   "source": []
  },
  {
   "cell_type": "markdown",
   "metadata": {},
   "source": []
  },
  {
   "cell_type": "markdown",
   "metadata": {},
   "source": []
  },
  {
   "cell_type": "code",
   "execution_count": null,
   "metadata": {},
   "outputs": [],
   "source": []
  },
  {
   "cell_type": "markdown",
   "metadata": {},
   "source": []
  },
  {
   "cell_type": "code",
   "execution_count": null,
   "metadata": {},
   "outputs": [],
   "source": []
  },
  {
   "cell_type": "markdown",
   "metadata": {},
   "source": []
  },
  {
   "cell_type": "markdown",
   "metadata": {},
   "source": []
  },
  {
   "cell_type": "code",
   "execution_count": null,
   "metadata": {},
   "outputs": [],
   "source": []
  },
  {
   "cell_type": "code",
   "execution_count": null,
   "metadata": {},
   "outputs": [],
   "source": []
  },
  {
   "cell_type": "markdown",
   "metadata": {},
   "source": [
    "<p><br><br></p>\n",
    "<center style=\"color:#BBBB00;font-size:35px;\">Thank you for being an active listener.</center>\n",
    "<p><br></p>"
   ]
  }
 ],
 "metadata": {
  "kernelspec": {
   "display_name": "Python 3",
   "language": "python",
   "name": "python3"
  },
  "language_info": {
   "codemirror_mode": {
    "name": "ipython",
    "version": 3
   },
   "file_extension": ".py",
   "mimetype": "text/x-python",
   "name": "python",
   "nbconvert_exporter": "python",
   "pygments_lexer": "ipython3",
   "version": "3.6.7"
  }
 },
 "nbformat": 4,
 "nbformat_minor": 2
}
