{
 "cells": [
  {
   "cell_type": "markdown",
   "metadata": {},
   "source": [
    "\n",
    "# Loops !!! (Part - 2)\n",
    "## While Loops\n",
    "\n",
    "<center><img src=\"images/while_loop.png\" style=\"width:500px;height:450px;\"/>\n"
   ]
  },
  {
   "cell_type": "markdown",
   "metadata": {},
   "source": [
    "\n",
    "```\n",
    "while condition:\n",
    "    Statements\n",
    "```"
   ]
  },
  {
   "cell_type": "markdown",
   "metadata": {},
   "source": [
    "<p><br></p>\n",
    "<p style=\"color:#BB0000;font-size:20px;\">Activity : Calculate the sum of first ```n``` Natural Numbers</p>\n",
    "<p><br></p>"
   ]
  },
  {
   "cell_type": "code",
   "execution_count": 1,
   "metadata": {},
   "outputs": [
    {
     "name": "stdout",
     "output_type": "stream",
     "text": [
      "Please provide the value of num: 456\n",
      "Sum of first 456 natural numbers is 104196\n"
     ]
    }
   ],
   "source": [
    "n = int(input('Please provide the value of num: '))\n",
    "s = 0\n",
    "counter = 0\n",
    "\n",
    "while counter <= n:    \n",
    "    s = s + counter\n",
    "    counter += 1    \n",
    "\n",
    "print(\"Sum of first %d natural numbers is %d\" % (n,s))"
   ]
  },
  {
   "cell_type": "markdown",
   "metadata": {},
   "source": [
    "## Usage of ```continue``` Statement"
   ]
  },
  {
   "cell_type": "code",
   "execution_count": 2,
   "metadata": {},
   "outputs": [
    {
     "name": "stdout",
     "output_type": "stream",
     "text": [
      "1,3,5,7,9,"
     ]
    }
   ],
   "source": [
    "for i in range(1,10+1):\n",
    "    if i%2 ==0:\n",
    "        continue\n",
    "    print(i, end=',')"
   ]
  },
  {
   "cell_type": "markdown",
   "metadata": {},
   "source": [
    "## Usage of ```break``` Statement"
   ]
  },
  {
   "cell_type": "code",
   "execution_count": 3,
   "metadata": {},
   "outputs": [
    {
     "name": "stdout",
     "output_type": "stream",
     "text": [
      "Please enter 'hello':hy\n",
      "Please enter 'hello':hello\n"
     ]
    }
   ],
   "source": [
    "# Break the Infinite Loop (unless condition met)\n",
    "\n",
    "while True:\n",
    "    n = input(\"Please enter 'hello':\")\n",
    "    if n.strip() == 'hello':\n",
    "        break"
   ]
  },
  {
   "cell_type": "markdown",
   "metadata": {},
   "source": [
    "<p><br><br></p>\n",
    "<center style=\"color:#3B3B30;font-size:35px;\">Thank you for being an active listener.</center>\n",
    "<p><br></p>\n",
    "\n",
    "### Please show us your support by ```like```, ```share``` and ```subscribe``` to our channel : <a href=\"https://www.youtube.com/channel/UCWHI-Ebf7_2ogLINkBIqaYA\">```letspython3.x```</a>"
   ]
  }
 ],
 "metadata": {
  "kernelspec": {
   "display_name": "Python 3",
   "language": "python",
   "name": "python3"
  },
  "language_info": {
   "codemirror_mode": {
    "name": "ipython",
    "version": 3
   },
   "file_extension": ".py",
   "mimetype": "text/x-python",
   "name": "python",
   "nbconvert_exporter": "python",
   "pygments_lexer": "ipython3",
   "version": "3.6.7"
  }
 },
 "nbformat": 4,
 "nbformat_minor": 2
}
