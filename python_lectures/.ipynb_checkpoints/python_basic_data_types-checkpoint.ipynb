{
 "cells": [
  {
   "cell_type": "markdown",
   "metadata": {},
   "source": [
    "<center><h1 style=font-size:40px>Python Basic Data Types & Operations &#128013;</h1></center>"
   ]
  },
  {
   "cell_type": "markdown",
   "metadata": {},
   "source": [
    "Data types are the classification or categorization of data items. Data types represent a kind of value which determines what operations can be performed on that data. Numeric, non-numeric and Boolean (true/false) data are the most used data types:\n",
    "\n",
    "A Data Type describes the characteristic of a variable.\n",
    "\n",
    "### Python has six standard Data Types:\n",
    "\n",
    "- Numbers\n",
    "- String\n",
    "- List\n",
    "- Tuple\n",
    "- Set\n",
    "- Dictionary\n",
    "\n",
    "*N.B In order to find to which class the variable belongs to you can use `type()` function.*"
   ]
  },
  {
   "cell_type": "markdown",
   "metadata": {},
   "source": [
    "## 1. Numbers\n",
    "In Numbers, there are mainly 3 types which include `Integer`, `Float`, and `Complex`."
   ]
  },
  {
   "cell_type": "code",
   "execution_count": 1,
   "metadata": {},
   "outputs": [
    {
     "name": "stdout",
     "output_type": "stream",
     "text": [
      "52 is of type <class 'int'>\n",
      "5.2 is of type <class 'float'>\n",
      "(10+14j) is of type <class 'complex'>\n"
     ]
    }
   ],
   "source": [
    "a = 52\n",
    "b = 5.2\n",
    "c = 10 + 14j\n",
    "print(a, \"is of type\", type(a))\n",
    "print(b, \"is of type\", type(b))\n",
    "print(c, \"is of type\", type(c))"
   ]
  },
  {
   "cell_type": "markdown",
   "metadata": {},
   "source": [
    "### Boolean Type, Boolean Context, and “Truthiness”\n",
    "Python 3 provides a Boolean data type. Objects of Boolean type may have one of two values, \n",
    "`True` or `False`:\n",
    "\n",
    "`Expressions in Python` are often evaluated in `Boolean context`, meaning they are interpreted to represent `truth` or `falsehood`. A value that is `True` in Boolean context is sometimes said to be *truthy*, and one that is `False` in Boolean context is said to be *falsy* or *falsey*.\n",
    "\n",
    "- The *truthiness* of an object of Boolean type is self-evident\n",
    "- Boolean objects that are equal to `True` are truthy (true), and those equal to `False` are falsy (false).\n",
    "But non-Boolean objects can be evaluated in Boolean context as well and determined to be true or false."
   ]
  },
  {
   "cell_type": "code",
   "execution_count": 33,
   "metadata": {},
   "outputs": [
    {
     "name": "stdout",
     "output_type": "stream",
     "text": [
      "<class 'bool'>\n",
      "<class 'bool'>\n"
     ]
    }
   ],
   "source": [
    "print(type(True))\n",
    "print(type(False))"
   ]
  },
  {
   "cell_type": "markdown",
   "metadata": {},
   "source": [
    "## 2. Strings\n",
    "\n",
    "A `string` is an `ordered sequence of characters`.\n",
    "\n",
    "- We can use single quotes or double quotes to represent strings. Multi-line strings can be represented using triple quotes, ”' or “””.\n",
    "- Strings are immutable which means once we declare a string we can't update the already declared string."
   ]
  },
  {
   "cell_type": "code",
   "execution_count": 2,
   "metadata": {},
   "outputs": [],
   "source": [
    "Single = 'Hey, Welcome to Python Tutorial. '\n",
    "Multi = '''Python is an interpreted high-level programming language \n",
    "for general-purpose programming. Created by Guido van Rossum and first released in 1991.'''"
   ]
  },
  {
   "cell_type": "code",
   "execution_count": 3,
   "metadata": {},
   "outputs": [
    {
     "data": {
      "text/plain": [
       "'Hey, Welcome to Python Tutorial. Python is an interpreted high-level programming language \\nfor general-purpose programming. Created by Guido van Rossum and first released in 1991.'"
      ]
     },
     "execution_count": 3,
     "metadata": {},
     "output_type": "execute_result"
    }
   ],
   "source": [
    "# `Concatenation`: It means the operation of joining two strings together.\n",
    "\n",
    "Single + Multi"
   ]
  },
  {
   "cell_type": "code",
   "execution_count": 4,
   "metadata": {},
   "outputs": [
    {
     "data": {
      "text/plain": [
       "'Hey, Welcome to Python Tutorial. Hey, Welcome to Python Tutorial. '"
      ]
     },
     "execution_count": 4,
     "metadata": {},
     "output_type": "execute_result"
    }
   ],
   "source": [
    "# Repetition: It means repeating a sequence of instructions a certain number of times.\n",
    "\n",
    "Single * 2"
   ]
  },
  {
   "cell_type": "code",
   "execution_count": 5,
   "metadata": {},
   "outputs": [
    {
     "data": {
      "text/plain": [
       "'Python is an interp'"
      ]
     },
     "execution_count": 5,
     "metadata": {},
     "output_type": "execute_result"
    }
   ],
   "source": [
    "# Slicing: Slicing is a technique for extracting parts of a string.\n",
    "# Note: In Python, index starts from 0.\n",
    "\n",
    "Multi[0:19]"
   ]
  },
  {
   "cell_type": "code",
   "execution_count": 6,
   "metadata": {},
   "outputs": [
    {
     "data": {
      "text/plain": [
       "'d in 1991.'"
      ]
     },
     "execution_count": 6,
     "metadata": {},
     "output_type": "execute_result"
    }
   ],
   "source": [
    "# Python also supports negative index.\n",
    "\n",
    "Multi[-10:]"
   ]
  },
  {
   "cell_type": "code",
   "execution_count": 7,
   "metadata": {},
   "outputs": [],
   "source": [
    "# As Strings are immutable in Python, if we try to update the string, then it will generate an error.\n",
    "\n",
    "Multi[7]= \"an\""
   ]
  },
  {
   "cell_type": "code",
   "execution_count": null,
   "metadata": {},
   "outputs": [],
   "source": [
    "print('This string contains a single quote (') character.')"
   ]
  },
  {
   "cell_type": "markdown",
   "metadata": {},
   "source": [
    "### Escape Sequences in Strings\n",
    "\n",
    "Use a backslash (`\\`) character for `Suppressing Special Character Meaning` or `Applying Special Meaning to Characters`\n",
    "\n",
    "- A backslash character in a string indicates that one or more characters that follow it should be treated specially. \n",
    "- This is referred to as an escape sequence, because the backslash causes the subsequent character sequence to “escape” its usual meaning.\n"
   ]
  },
  {
   "cell_type": "markdown",
   "metadata": {},
   "source": [
    "Below is the table of escape sequences which cause Python to suppress the usual special interpretation of a character in a string.\n",
    "\n",
    "|Escape Sequence|\tUsual Interpretation of Character(s) After Backslash|\t“Escaped” Interpretation|\n",
    "|---------------|-------------------------------------------------------|---------------------------|\n",
    "|\\'|\t|Terminates string with single quote opening delimiter|\tLiteral single quote (') character|\n",
    "|\\\"\t|Terminates string with double quote opening delimiter\t|Literal double quote (\") character|\n",
    "|\\newline|\tTerminates input line\t|Newline is ignored|\n",
    "|\\\\\t|Introduces escape sequence\t|Literal backslash (\\) character|"
   ]
  },
  {
   "cell_type": "code",
   "execution_count": null,
   "metadata": {},
   "outputs": [],
   "source": [
    "print('This string contains a single quote (\\') character.')"
   ]
  },
  {
   "cell_type": "code",
   "execution_count": 30,
   "metadata": {},
   "outputs": [
    {
     "name": "stdout",
     "output_type": "stream",
     "text": [
      "abc\n"
     ]
    }
   ],
   "source": [
    "print('a\\\n",
    "b\\\n",
    "c')"
   ]
  },
  {
   "cell_type": "code",
   "execution_count": null,
   "metadata": {},
   "outputs": [],
   "source": [
    "print('foo\\tbar')"
   ]
  },
  {
   "cell_type": "code",
   "execution_count": null,
   "metadata": {},
   "outputs": [],
   "source": [
    "print('foo\\\\bar')"
   ]
  },
  {
   "cell_type": "code",
   "execution_count": 31,
   "metadata": {},
   "outputs": [
    {
     "name": "stdout",
     "output_type": "stream",
     "text": [
      "a\tb\n",
      "aaa\n",
      "a\n",
      "b\n",
      "→ →\n"
     ]
    }
   ],
   "source": [
    "print(\"a\\tb\")\n",
    "print(\"a\\141\\x61\")\n",
    "print(\"a\\nb\")\n",
    "print('\\u2192 \\N{rightwards arrow}')"
   ]
  },
  {
   "cell_type": "markdown",
   "metadata": {},
   "source": [
    "### Raw Strings\n",
    "\n",
    "A raw string literal is preceded by `r` or `R`, which specifies that escape sequences in the associated string are not translated. The backslash character is left in the string:"
   ]
  },
  {
   "cell_type": "code",
   "execution_count": 32,
   "metadata": {},
   "outputs": [
    {
     "name": "stdout",
     "output_type": "stream",
     "text": [
      "foo\n",
      "bar\n",
      "foo\\nbar\n",
      "foo\\bar\n",
      "foo\\\\bar\n"
     ]
    }
   ],
   "source": [
    "print('foo\\nbar')\n",
    "print(r'foo\\nbar')\n",
    "print('foo\\\\bar')\n",
    "print(R'foo\\\\bar')"
   ]
  },
  {
   "cell_type": "markdown",
   "metadata": {},
   "source": [
    "## 3. List\n",
    "\n",
    "- A list can contain a series of values.\n",
    "- List variables are declared by using brackets [ ]. A list is mutable, which means we can modify the list.\n",
    "\n"
   ]
  },
  {
   "cell_type": "code",
   "execution_count": 8,
   "metadata": {},
   "outputs": [
    {
     "data": {
      "text/plain": [
       "'Hi'"
      ]
     },
     "execution_count": 8,
     "metadata": {},
     "output_type": "execute_result"
    }
   ],
   "source": [
    "list_of_numbers = [2,4,5.5,\"Hi\"]\n",
    "list_of_numbers[3]"
   ]
  },
  {
   "cell_type": "code",
   "execution_count": 9,
   "metadata": {},
   "outputs": [
    {
     "data": {
      "text/plain": [
       "[2, 4, 5.5, 'Hi']"
      ]
     },
     "execution_count": 9,
     "metadata": {},
     "output_type": "execute_result"
    }
   ],
   "source": [
    "# Slicing\n",
    "\n",
    "list_of_numbers[0:2]\n",
    "list_of_numbers"
   ]
  },
  {
   "cell_type": "code",
   "execution_count": 10,
   "metadata": {},
   "outputs": [
    {
     "data": {
      "text/plain": [
       "[2, 4, 5.5, 'Hello']"
      ]
     },
     "execution_count": 10,
     "metadata": {},
     "output_type": "execute_result"
    }
   ],
   "source": [
    "# Update:\n",
    "\n",
    "list_of_numbers[3] = \"Hello\"\n",
    "list_of_numbers"
   ]
  },
  {
   "cell_type": "code",
   "execution_count": 11,
   "metadata": {},
   "outputs": [
    {
     "data": {
      "text/plain": [
       "[2, 4, 5.5, 'Hello', 'Pythonista']"
      ]
     },
     "execution_count": 11,
     "metadata": {},
     "output_type": "execute_result"
    }
   ],
   "source": [
    "# Append:\n",
    "\n",
    "list_of_numbers.append(\"Pythonista\")\n",
    "list_of_numbers"
   ]
  },
  {
   "cell_type": "code",
   "execution_count": 14,
   "metadata": {},
   "outputs": [
    {
     "data": {
      "text/plain": [
       "[2,\n",
       " 4,\n",
       " 5.5,\n",
       " 'Hello',\n",
       " 'Pythonista',\n",
       " 'P',\n",
       " 'y',\n",
       " 't',\n",
       " 'h',\n",
       " 'o',\n",
       " 'n',\n",
       " 'i',\n",
       " 's',\n",
       " 't',\n",
       " 'a',\n",
       " 'How are you ?',\n",
       " 'P',\n",
       " 'y',\n",
       " 't',\n",
       " 'h',\n",
       " 'o',\n",
       " 'n',\n",
       " 'i',\n",
       " 's',\n",
       " 't',\n",
       " 'a',\n",
       " 'How are you ?',\n",
       " 'I ',\n",
       " 'Am good']"
      ]
     },
     "execution_count": 14,
     "metadata": {},
     "output_type": "execute_result"
    }
   ],
   "source": [
    "# Extend:\n",
    "\n",
    "list_of_numbers.extend(\"Pythonista\")\n",
    "list_of_numbers.extend([\"How are you ?\"])\n",
    "list_of_numbers.extend([\"I \", \"Am good\"])\n",
    "list_of_numbers"
   ]
  },
  {
   "cell_type": "markdown",
   "metadata": {},
   "source": [
    "## 4. Tuple\n",
    "\n",
    "- A tuple is a sequence of Python objects separated by commas.\n",
    "- Tuples are immutable, which means tuples once created cannot be modified. \n",
    "- Tuples are defined using parentheses ()."
   ]
  },
  {
   "cell_type": "code",
   "execution_count": 16,
   "metadata": {},
   "outputs": [],
   "source": [
    "tuple_of_numbers = (50,15,25.6,\"Python\")"
   ]
  },
  {
   "cell_type": "markdown",
   "metadata": {},
   "source": [
    "## 5. Set\n",
    "\n",
    "- A set is an unordered collection of items. \n",
    "- Set is defined by values separated by a comma inside braces { }."
   ]
  },
  {
   "cell_type": "code",
   "execution_count": 17,
   "metadata": {},
   "outputs": [],
   "source": [
    "Set = {5,1,2.6,\"python\"}"
   ]
  },
  {
   "cell_type": "code",
   "execution_count": 19,
   "metadata": {},
   "outputs": [
    {
     "name": "stdout",
     "output_type": "stream",
     "text": [
      "A U B = {'a', 2, 'c', 'd'}\n"
     ]
    }
   ],
   "source": [
    "# We can perform Union operation by Using | Operator.\n",
    "\n",
    "A = {'a', 'c', 'd'}\n",
    "B = {'c', 'd', 2 }\n",
    "print('A U B =', A| B)"
   ]
  },
  {
   "cell_type": "code",
   "execution_count": 18,
   "metadata": {},
   "outputs": [
    {
     "name": "stdout",
     "output_type": "stream",
     "text": [
      "{7}\n"
     ]
    }
   ],
   "source": [
    "# We can perform Intersection operation by Using & Operator.\n",
    "\n",
    "A = {100, 7, 8}\n",
    "B = {200, 4, 7}\n",
    "print(A & B)"
   ]
  },
  {
   "cell_type": "markdown",
   "metadata": {},
   "source": [
    "## 6. Dictionary\n",
    "\n",
    "- Dictionaries are the most flexible built-in data type in python.\n",
    "- Dictionaries items are stored and fetched by using the key. Dictionaries are used to store a huge amount of data.\n",
    "- To retrieve the value we must know the key. In Python, dictionaries are defined within braces {}.\n",
    "- We use the key to retrieve the respective value. But not the other way around."
   ]
  },
  {
   "cell_type": "code",
   "execution_count": 21,
   "metadata": {},
   "outputs": [
    {
     "data": {
      "text/plain": [
       "{1: 'One', 2: 'Two', 3: 'Three'}"
      ]
     },
     "execution_count": 21,
     "metadata": {},
     "output_type": "execute_result"
    }
   ],
   "source": [
    "nomenclature_of_numbers = {1:'One',2:'Two', 3:'Three'}\n",
    "nomenclature_of_numbers"
   ]
  },
  {
   "cell_type": "markdown",
   "metadata": {},
   "source": [
    "<p style=\"color:#AA0000;font-size:25px;\"> Activity 1 : What is the value of below expression ?</p>"
   ]
  },
  {
   "cell_type": "code",
   "execution_count": 13,
   "metadata": {},
   "outputs": [
    {
     "data": {
      "text/plain": [
       "999"
      ]
     },
     "execution_count": 13,
     "metadata": {},
     "output_type": "execute_result"
    }
   ],
   "source": [
    "True * 1000 - True"
   ]
  },
  {
   "cell_type": "markdown",
   "metadata": {},
   "source": [
    "<p style=\"color:#AA0000;font-size:25px;\"> Activity 2 : Predict the output ?</p>"
   ]
  },
  {
   "cell_type": "code",
   "execution_count": 28,
   "metadata": {},
   "outputs": [
    {
     "name": "stdout",
     "output_type": "stream",
     "text": [
      "May Be\n"
     ]
    }
   ],
   "source": [
    "d = {\n",
    "    1 : 'Yes',\n",
    "    1.0 : 'No',\n",
    "    True : 'May Be'\n",
    "}\n",
    "\n",
    "\n",
    "print(d[1.0])"
   ]
  },
  {
   "cell_type": "code",
   "execution_count": 26,
   "metadata": {},
   "outputs": [
    {
     "name": "stdout",
     "output_type": "stream",
     "text": [
      "(1, 1, 1)\n"
     ]
    }
   ],
   "source": [
    "print((hash(1), hash(1.0), hash(True)))"
   ]
  },
  {
   "cell_type": "markdown",
   "metadata": {},
   "source": [
    "REFERENCES:\n",
    "    \n",
    "1. https://realpython.com/python-data-types/\n",
    "2. https://www.tutorialsteacher.com/python/python-data-types\n",
    "3. https://www.softwaretestinghelp.com/python/python-data-types/"
   ]
  },
  {
   "cell_type": "markdown",
   "metadata": {},
   "source": [
    "<p><br><br></p>\n",
    "<center style=\"color:#3B3B30;font-size:35px;\">Thank you for being an active listener.</center>\n",
    "<p><br></p>\n"
   ]
  }
 ],
 "metadata": {
  "kernelspec": {
   "display_name": "Python 3",
   "language": "python",
   "name": "python3"
  },
  "language_info": {
   "codemirror_mode": {
    "name": "ipython",
    "version": 3
   },
   "file_extension": ".py",
   "mimetype": "text/x-python",
   "name": "python",
   "nbconvert_exporter": "python",
   "pygments_lexer": "ipython3",
   "version": "3.6.8"
  }
 },
 "nbformat": 4,
 "nbformat_minor": 2
}
