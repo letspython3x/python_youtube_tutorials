{
 "cells": [
  {
   "cell_type": "markdown",
   "metadata": {},
   "source": [
    "# Loops !!! (Part - 3)\n",
    "\n",
    "### Iterate over a string using ```while``` loop"
   ]
  },
  {
   "cell_type": "markdown",
   "metadata": {},
   "source": [
    "<p style=\"font-size:20px;\"><br />**N.B:** The ```for``` loop was able to iterate automatically through the string, list or any iterator, sequence</p>"
   ]
  },
  {
   "cell_type": "markdown",
   "metadata": {},
   "source": [
    "<p><br></p>\n",
    "<p style=\"color:#BB0000;font-size:30px;\">Mind Boggling Question</p>\n",
    "<p style=\"color:#555500;font-size:20px;\">Can we iterate over a ```string``` using ```while``` loop (avoid using indexing)? </p>\n",
    "<p><br></p>"
   ]
  },
  {
   "cell_type": "markdown",
   "metadata": {},
   "source": [
    "<p style=\"color:#BB0000;font-size:30px;\">How ```for``` loops are implemented in Python ? </p>\n",
    "<p><br></p>"
   ]
  },
  {
   "cell_type": "markdown",
   "metadata": {},
   "source": [
    "for element in iterable:\n",
    "    # do something with element\n",
    "    pass"
   ]
  },
  {
   "cell_type": "markdown",
   "metadata": {},
   "source": [
    "### Description\n",
    "<p style=\"font-size:15px;\">**Internally**, the ```for``` loop creates an ```iterator``` object, iter_obj by calling ```iter()``` on the iterable.\n",
    "\n",
    "Ironically, this for loop is actually an infinite while loop.\n",
    "\n",
    "Inside the loop, it calls **next()** to get the next element and executes the body of the for loop with this value. <br />After all the items exhaust, The **Exception StopIteration** is raised which is internally caught and the loop ends. <br />Note that any other kind of exception will pass through.</p>"
   ]
  },
  {
   "cell_type": "markdown",
   "metadata": {},
   "source": [
    "# create an iterator object from that iterable\n",
    "iter_obj = iter(iterable)\n",
    "\n",
    "# infinite loop\n",
    "while True:\n",
    "    try:\n",
    "        # get the next item\n",
    "        element = next(iter_obj)\n",
    "        # do something with element\n",
    "    except StopIteration:\n",
    "        # if StopIteration is raised, break from loop\n",
    "        break"
   ]
  },
  {
   "cell_type": "markdown",
   "metadata": {},
   "source": [
    "<p style=\"color:#555500;font-size:20px;\">Iterating over a string using while loop </p>"
   ]
  },
  {
   "cell_type": "code",
   "execution_count": null,
   "metadata": {},
   "outputs": [],
   "source": [
    "myStr = \"Lets Python\"\n",
    "myStr_iter = iter(myStr)\n",
    "\n",
    "while True:\n",
    "    try:\n",
    "        char = next(myStr_iter)\n",
    "        print(char)\n",
    "    except StopIteration:\n",
    "        break"
   ]
  },
  {
   "cell_type": "markdown",
   "metadata": {},
   "source": [
    "<p><br><br></p>\n",
    "<center style=\"color:#3B3B30;font-size:35px;\">Thank you for being an active listener.</center>\n",
    "<p><br></p>\n",
    "\n",
    "### Please show us your support by ```like```, ```share``` and ```subscribe``` to our channel : <a href=\"https://www.youtube.com/channel/UCWHI-Ebf7_2ogLINkBIqaYA\">```letspython3.x```</a>"
   ]
  }
 ],
 "metadata": {
  "kernelspec": {
   "display_name": "Python 3",
   "language": "python",
   "name": "python3"
  },
  "language_info": {
   "codemirror_mode": {
    "name": "ipython",
    "version": 3
   },
   "file_extension": ".py",
   "mimetype": "text/x-python",
   "name": "python",
   "nbconvert_exporter": "python",
   "pygments_lexer": "ipython3",
   "version": "3.6.7"
  }
 },
 "nbformat": 4,
 "nbformat_minor": 2
}
